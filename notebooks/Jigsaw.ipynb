{
 "cells": [
  {
   "cell_type": "markdown",
   "id": "9ac729c4",
   "metadata": {},
   "source": [
    "# JIGSAW DEMONSTRATION\n",
    "Demonstrates Jigsaw working, and breaking Jigsaw through it's renormalisation"
   ]
  },
  {
   "cell_type": "code",
   "execution_count": null,
   "id": "94a4a0b1",
   "metadata": {},
   "outputs": [],
   "source": [
    "import qiskit\n",
    "import numpy as np\n",
    "import copy\n",
    "import PatchedMeasCal.jigsaw as jigsaw\n",
    "from PatchedMeasCal.tensor_patch_cal import TensorPatchFitter\n",
    "from PatchedMeasCal import bv, qft\n",
    "from PatchedMeasCal.fake_backends import Grid, Hexagonal, Hexagonal16\n",
    "from PatchedMeasCal.utils import norm_results_dict\n",
    "\n",
    "from PatchedMeasCal.state_prep_circuits import integer_state_prep_sim, integer_state_dist\n",
    "\n",
    "from PatchedMeasCal.gen_error_matrices import FakeMeasurementError\n",
    "\n",
    "from PatchedMeasCal.fake_backends import LocalSimulator\n",
    "\n",
    "\n",
    "import qiskit.tools.jupyter"
   ]
  },
  {
   "cell_type": "code",
   "execution_count": null,
   "id": "4987395f",
   "metadata": {},
   "outputs": [],
   "source": [
    "n_qubits = 4\n",
    "n_shots = 16000\n",
    "bv_str = '0' * (n_qubits - 2) + '11'\n",
    "targ_bv_str = bv_str[::-1]\n",
    "\n",
    "backend = Grid(2, 2) #Hexagonal16() #Grid(3, 3)\n",
    "\n",
    "circuit = bv.bv_circuit(bv_str, n_qubits)\n",
    "print(targ_bv_str)\n",
    "backend"
   ]
  },
  {
   "cell_type": "markdown",
   "id": "4b4ae57d",
   "metadata": {},
   "source": [
    "## Bare execution"
   ]
  },
  {
   "cell_type": "code",
   "execution_count": null,
   "id": "48105ee4",
   "metadata": {},
   "outputs": [],
   "source": [
    "initial_layout = list(range(n_qubits))\n",
    "\n",
    "tc = qiskit.transpile(circuit, backend=backend, optimization_level=0, initial_layout=initial_layout)\n",
    "res_d = qiskit.execute(tc, backend, shots=n_shots, optimization_level=0, initial_layout=initial_layout).result().get_counts()\n",
    "res_bare = copy.deepcopy(res_d)\n",
    "norm_results_dict(res_d)\n",
    "print(res_d[targ_bv_str])"
   ]
  },
  {
   "cell_type": "markdown",
   "id": "959f8fe7",
   "metadata": {},
   "source": [
    "## Run Jigsaw"
   ]
  },
  {
   "cell_type": "code",
   "execution_count": null,
   "id": "8a03a3d5",
   "metadata": {},
   "outputs": [],
   "source": [
    "res_j = jigsaw.jigsaw(circuit, backend, n_shots, verbose=True, local_pmf_pairs = [(0, 3), (1, 2)])\n",
    "print(res_j[targ_bv_str])"
   ]
  },
  {
   "cell_type": "markdown",
   "id": "87ca8452",
   "metadata": {},
   "source": [
    "## Try CMC/TPF"
   ]
  },
  {
   "cell_type": "code",
   "execution_count": null,
   "id": "1262f508",
   "metadata": {},
   "outputs": [],
   "source": [
    "tpf = TensorPatchFitter(backend, n_shots=n_shots)\n",
    "tpf.build()"
   ]
  },
  {
   "cell_type": "code",
   "execution_count": null,
   "id": "956fd78f",
   "metadata": {},
   "outputs": [],
   "source": [
    "t_res = tpf.apply(res_d)\n",
    "print(t_res[targ_bv_str])"
   ]
  },
  {
   "cell_type": "markdown",
   "id": "a1c46b7b",
   "metadata": {},
   "source": [
    "## What if circuit filter + backend filter?"
   ]
  },
  {
   "cell_type": "code",
   "execution_count": null,
   "id": "2a7e5494",
   "metadata": {},
   "outputs": [],
   "source": [
    "tj_res = tpf(res_j)\n",
    "print(tj_res[targ_bv_str])"
   ]
  },
  {
   "cell_type": "code",
   "execution_count": null,
   "id": "stuck-warrant",
   "metadata": {},
   "outputs": [],
   "source": [
    "tpf_filter = FakeMeasurementError(n_qubits=4, meas_filter=tpf)\n",
    "jt_res = jigsaw.jigsaw(circuit, backend, n_shots, verbose=True, local_pmf_pairs = [(0, 3), (1, 2)], probs=tpf_filter)\n",
    "print(res_j[targ_bv_str])"
   ]
  },
  {
   "cell_type": "markdown",
   "id": "middle-lyric",
   "metadata": {},
   "source": [
    "## Breaking JIGSAW via Normalisation\n"
   ]
  },
  {
   "cell_type": "code",
   "execution_count": null,
   "id": "announced-dream",
   "metadata": {},
   "outputs": [],
   "source": [
    "n_qubits=4\n",
    "circuit = integer_state_prep_sim(2, n_qubits)\n",
    "circuit.draw()\n",
    "\n",
    "# Target state is '0100' as Qiskit reports measured qubits backwards"
   ]
  },
  {
   "cell_type": "code",
   "execution_count": null,
   "id": "modern-sleeping",
   "metadata": {},
   "outputs": [],
   "source": [
    "n_qubits = 4\n",
    "\n",
    "aligned_cmap = [[0, 3], [2, 1]]\n",
    "anti_aligned_cmap = [[0, 1], [2, 3]]\n",
    "\n",
    "backend = LocalSimulator(n_qubits)\n",
    "probs = FakeMeasurementError(\n",
    "        [100, 0, 10,0,0], # Const - Controls correlation of error weights\n",
    "        [0, 0 , 0, 0, 0], # 1 -> 0 - Controls error biases\n",
    "        [0, 0, 0, 0, 0], # 0 -> 1 - Controls error biases\n",
    "        n_qubits=n_qubits,\n",
    "        coupling_map = aligned_cmap,\n",
    "        norm_error=0.75,\n",
    "        )"
   ]
  },
  {
   "cell_type": "markdown",
   "id": "55791e1c",
   "metadata": {},
   "source": [
    "### Aligned Jigsaw"
   ]
  },
  {
   "cell_type": "code",
   "execution_count": null,
   "id": "developmental-honor",
   "metadata": {},
   "outputs": [],
   "source": [
    "# jigsaw pairs align with the errors\n",
    "jigsaw.jigsaw(circuit, backend, \n",
    "              100, n_qubits=n_qubits, probs=probs, \n",
    "              local_pmf_pairs=aligned_cmap)"
   ]
  },
  {
   "cell_type": "markdown",
   "id": "6c0c72f6",
   "metadata": {},
   "source": [
    "### Anti-Aligned Jigsaw"
   ]
  },
  {
   "cell_type": "code",
   "execution_count": null,
   "id": "bigger-silence",
   "metadata": {},
   "outputs": [],
   "source": [
    "# jigsaw pairs anti_align with the errors\n",
    "jigsaw.jigsaw(circuit, backend, \n",
    "              100, n_qubits=n_qubits, probs=probs, \n",
    "              local_pmf_pairs=anti_aligned_cmap)"
   ]
  },
  {
   "cell_type": "markdown",
   "id": "fdaf1a19",
   "metadata": {},
   "source": [
    "### Aligned CMC"
   ]
  },
  {
   "cell_type": "code",
   "execution_count": null,
   "id": "9f940c68",
   "metadata": {},
   "outputs": [],
   "source": [
    "res_d = probs(qiskit.execute(circuit, backend, shots=16000, optimization_level=0, initial_layout=initial_layout).result().get_counts())\n",
    "tpf = TensorPatchFitter(backend, n_shots=16000, coupling_map=aligned_cmap)\n",
    "tpf.build(probs=probs)\n",
    "print('Bare:', res_d)\n",
    "print('TPF:', tpf.apply(tpf.apply(res_d)))"
   ]
  },
  {
   "cell_type": "markdown",
   "id": "796ef354",
   "metadata": {},
   "source": [
    "### Anti-aligned CMC"
   ]
  },
  {
   "cell_type": "code",
   "execution_count": null,
   "id": "abstract-christmas",
   "metadata": {},
   "outputs": [],
   "source": [
    "# CMC anti-aligned -> I\n",
    "res_d = probs(qiskit.execute(circuit, backend, shots=16000, optimization_level=0, initial_layout=initial_layout).result().get_counts())\n",
    "tpf = TensorPatchFitter(backend, n_shots=16000, coupling_map=anti_aligned_cmap)\n",
    "tpf.build(probs=probs)\n",
    "print('Bare:', res_d)\n",
    "print('TPF:', tpf.apply(tpf.apply(res_d)))"
   ]
  },
  {
   "cell_type": "code",
   "execution_count": null,
   "id": "optional-driver",
   "metadata": {},
   "outputs": [],
   "source": []
  }
 ],
 "metadata": {
  "kernelspec": {
   "display_name": "Python 3",
   "language": "python",
   "name": "python3"
  },
  "language_info": {
   "codemirror_mode": {
    "name": "ipython",
    "version": 3
   },
   "file_extension": ".py",
   "mimetype": "text/x-python",
   "name": "python",
   "nbconvert_exporter": "python",
   "pygments_lexer": "ipython3",
   "version": "3.8.3"
  }
 },
 "nbformat": 4,
 "nbformat_minor": 5
}
