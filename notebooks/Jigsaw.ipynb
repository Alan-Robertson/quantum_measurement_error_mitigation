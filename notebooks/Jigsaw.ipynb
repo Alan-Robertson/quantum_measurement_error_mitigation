{
 "cells": [
  {
   "cell_type": "markdown",
   "id": "9ac729c4",
   "metadata": {},
   "source": [
    "# JIGSAW DEMONSTRATION\n",
    "Demonstrates Jigsaw working, and breaking Jigsaw through it's renormalisation"
   ]
  },
  {
   "cell_type": "code",
   "execution_count": 2,
   "id": "94a4a0b1",
   "metadata": {},
   "outputs": [],
   "source": [
    "import qiskit\n",
    "import numpy as np\n",
    "import copy\n",
    "import PatchedMeasCal.jigsaw as jigsaw\n",
    "from PatchedMeasCal.tensor_patch_cal import TensorPatchFitter\n",
    "from PatchedMeasCal import bv, qft\n",
    "from PatchedMeasCal.fake_backends import Grid, Hexagonal, Hexagonal16\n",
    "from PatchedMeasCal.utils import norm_results_dict\n",
    "\n",
    "from PatchedMeasCal.state_prep_circuits import integer_state_prep_sim, integer_state_dist\n",
    "\n",
    "from PatchedMeasCal.gen_error_matrices import FakeMeasurementError\n",
    "\n",
    "from PatchedMeasCal.fake_backends import LocalSimulator\n",
    "\n",
    "\n",
    "import qiskit.tools.jupyter"
   ]
  },
  {
   "cell_type": "code",
   "execution_count": 3,
   "id": "4987395f",
   "metadata": {},
   "outputs": [
    {
     "name": "stdout",
     "output_type": "stream",
     "text": [
      "1100\n"
     ]
    },
    {
     "data": {
      "application/vnd.jupyter.widget-view+json": {
       "model_id": "0aaaaf25d5f846b3b6824011ad6e4b2c",
       "version_major": 2,
       "version_minor": 0
      },
      "text/plain": [
       "VBox(children=(HTML(value=\"<h1 style='color:#ffffff;background-color:#000000;padding-top: 1%;padding-bottom: 1…"
      ]
     },
     "metadata": {},
     "output_type": "display_data"
    },
    {
     "data": {
      "text/plain": [
       "<Grid('square')>"
      ]
     },
     "execution_count": 3,
     "metadata": {},
     "output_type": "execute_result"
    }
   ],
   "source": [
    "n_qubits = 4\n",
    "n_shots = 16000\n",
    "bv_str = '0' * (n_qubits - 2) + '11'\n",
    "targ_bv_str = bv_str[::-1]\n",
    "\n",
    "backend = Grid(2, 2) #Hexagonal16() #Grid(3, 3)\n",
    "\n",
    "circuit = bv.bv_circuit(bv_str, n_qubits)\n",
    "print(targ_bv_str)\n",
    "backend"
   ]
  },
  {
   "cell_type": "markdown",
   "id": "4b4ae57d",
   "metadata": {},
   "source": [
    "## Bare execution"
   ]
  },
  {
   "cell_type": "code",
   "execution_count": 4,
   "id": "48105ee4",
   "metadata": {},
   "outputs": [
    {
     "name": "stdout",
     "output_type": "stream",
     "text": [
      "0.8586875\n"
     ]
    }
   ],
   "source": [
    "initial_layout = list(range(n_qubits))\n",
    "\n",
    "tc = qiskit.transpile(circuit, backend=backend, optimization_level=0, initial_layout=initial_layout)\n",
    "res_d = qiskit.execute(tc, backend, shots=n_shots, optimization_level=0, initial_layout=initial_layout).result().get_counts()\n",
    "res_bare = copy.deepcopy(res_d)\n",
    "norm_results_dict(res_d)\n",
    "print(res_d[targ_bv_str])"
   ]
  },
  {
   "cell_type": "markdown",
   "id": "959f8fe7",
   "metadata": {},
   "source": [
    "## Run Jigsaw"
   ]
  },
  {
   "cell_type": "code",
   "execution_count": 5,
   "id": "8a03a3d5",
   "metadata": {},
   "outputs": [
    {
     "name": "stdout",
     "output_type": "stream",
     "text": [
      "0.9883356984008368\n"
     ]
    }
   ],
   "source": [
    "res_j = jigsaw.jigsaw(circuit, backend, n_shots, verbose=True, local_pmf_pairs = [(0, 3), (1, 2)])\n",
    "print(res_j[targ_bv_str])"
   ]
  },
  {
   "cell_type": "markdown",
   "id": "87ca8452",
   "metadata": {},
   "source": [
    "## Try CMC/TPF"
   ]
  },
  {
   "cell_type": "code",
   "execution_count": 6,
   "id": "1262f508",
   "metadata": {},
   "outputs": [],
   "source": [
    "tpf = TensorPatchFitter(backend, n_shots=n_shots)\n",
    "tpf.build()"
   ]
  },
  {
   "cell_type": "code",
   "execution_count": 7,
   "id": "956fd78f",
   "metadata": {},
   "outputs": [
    {
     "name": "stdout",
     "output_type": "stream",
     "text": [
      "0.9880767543770003\n"
     ]
    }
   ],
   "source": [
    "t_res = tpf.apply(res_d)\n",
    "print(t_res[targ_bv_str])"
   ]
  },
  {
   "cell_type": "markdown",
   "id": "a1c46b7b",
   "metadata": {},
   "source": [
    "## What if circuit filter + backend filter?"
   ]
  },
  {
   "cell_type": "code",
   "execution_count": 8,
   "id": "2a7e5494",
   "metadata": {},
   "outputs": [
    {
     "name": "stdout",
     "output_type": "stream",
     "text": [
      "0.9987656293373195\n"
     ]
    }
   ],
   "source": [
    "tj_res = tpf(res_j)\n",
    "print(tj_res[targ_bv_str])"
   ]
  },
  {
   "cell_type": "code",
   "execution_count": 9,
   "id": "stuck-warrant",
   "metadata": {},
   "outputs": [
    {
     "name": "stdout",
     "output_type": "stream",
     "text": [
      "0.9883356984008368\n"
     ]
    },
    {
     "name": "stderr",
     "output_type": "stream",
     "text": [
      "/home/alan/aur/miniconda3/lib/python3.9/site-packages/PatchedMeasCal-0.2-py3.9.egg/PatchedMeasCal/jigsaw.py:140: RuntimeWarning: invalid value encountered in double_scalars\n"
     ]
    }
   ],
   "source": [
    "tpf_filter = FakeMeasurementError(n_qubits=4, meas_filter=tpf)\n",
    "jt_res = jigsaw.jigsaw(circuit, backend, n_shots, verbose=True, local_pmf_pairs = [(0, 3), (1, 2)], probs=tpf_filter)\n",
    "print(res_j[targ_bv_str])"
   ]
  },
  {
   "cell_type": "markdown",
   "id": "middle-lyric",
   "metadata": {},
   "source": [
    "## Breaking JIGSAW via Normalisation\n"
   ]
  },
  {
   "cell_type": "code",
   "execution_count": 23,
   "id": "announced-dream",
   "metadata": {},
   "outputs": [
    {
     "data": {
      "text/html": [
       "<pre style=\"word-wrap: normal;white-space: pre;background: #fff0;line-height: 1.1;font-family: &quot;Courier New&quot;,Courier,monospace\">     ┌─┐         \n",
       "q_0: ┤M├─────────\n",
       "     └╥┘┌─┐      \n",
       "q_1: ─╫─┤M├──────\n",
       "      ║ └╥┘┌─┐   \n",
       "q_2: ─╫──╫─┤M├───\n",
       "      ║  ║ └╥┘┌─┐\n",
       "q_3: ─╫──╫──╫─┤M├\n",
       "      ║  ║  ║ └╥┘\n",
       "c: 4/═╩══╩══╩══╩═\n",
       "      0  1  2  3 </pre>"
      ],
      "text/plain": [
       "     ┌─┐         \n",
       "q_0: ┤M├─────────\n",
       "     └╥┘┌─┐      \n",
       "q_1: ─╫─┤M├──────\n",
       "      ║ └╥┘┌─┐   \n",
       "q_2: ─╫──╫─┤M├───\n",
       "      ║  ║ └╥┘┌─┐\n",
       "q_3: ─╫──╫──╫─┤M├\n",
       "      ║  ║  ║ └╥┘\n",
       "c: 4/═╩══╩══╩══╩═\n",
       "      0  1  2  3 "
      ]
     },
     "execution_count": 23,
     "metadata": {},
     "output_type": "execute_result"
    }
   ],
   "source": [
    "n_qubits=4\n",
    "circuit = integer_state_prep_sim(0, n_qubits)\n",
    "circuit.draw()\n",
    "\n",
    "# Target state is '0100' as Qiskit reports measured qubits backwards"
   ]
  },
  {
   "cell_type": "code",
   "execution_count": 24,
   "id": "modern-sleeping",
   "metadata": {},
   "outputs": [],
   "source": [
    "n_qubits = 4\n",
    "\n",
    "aligned_cmap = [[0, 3], [2, 1]]\n",
    "anti_aligned_cmap = [[0, 1], [2, 3]]\n",
    "\n",
    "backend = LocalSimulator(n_qubits)\n",
    "probs = FakeMeasurementError(\n",
    "        [100, 0, 10,0,0], # Const - Controls correlation of error weights\n",
    "        [0, 0 , 0, 0, 0], # 1 -> 0 - Controls error biases\n",
    "        [0, 0, 0, 0, 0], # 0 -> 1 - Controls error biases\n",
    "        n_qubits=n_qubits,\n",
    "        coupling_map = aligned_cmap,\n",
    "        norm_error=0.75,\n",
    "        )"
   ]
  },
  {
   "cell_type": "markdown",
   "id": "55791e1c",
   "metadata": {},
   "source": [
    "### Aligned Jigsaw"
   ]
  },
  {
   "cell_type": "code",
   "execution_count": 25,
   "id": "developmental-honor",
   "metadata": {},
   "outputs": [
    {
     "ename": "AttributeError",
     "evalue": "'function' object has no attribute 'jigsaw'",
     "output_type": "error",
     "traceback": [
      "\u001b[0;31m---------------------------------------------------------------------------\u001b[0m",
      "\u001b[0;31mAttributeError\u001b[0m                            Traceback (most recent call last)",
      "\u001b[0;32m/tmp/ipykernel_701933/2249439979.py\u001b[0m in \u001b[0;36m<module>\u001b[0;34m\u001b[0m\n\u001b[1;32m      1\u001b[0m \u001b[0;31m# jigsaw pairs align with the errors\u001b[0m\u001b[0;34m\u001b[0m\u001b[0;34m\u001b[0m\u001b[0m\n\u001b[0;32m----> 2\u001b[0;31m jigsaw.jigsaw(circuit, backend, \n\u001b[0m\u001b[1;32m      3\u001b[0m               \u001b[0;36m100\u001b[0m\u001b[0;34m,\u001b[0m \u001b[0mn_qubits\u001b[0m\u001b[0;34m=\u001b[0m\u001b[0mn_qubits\u001b[0m\u001b[0;34m,\u001b[0m \u001b[0mprobs\u001b[0m\u001b[0;34m=\u001b[0m\u001b[0mprobs\u001b[0m\u001b[0;34m,\u001b[0m\u001b[0;34m\u001b[0m\u001b[0;34m\u001b[0m\u001b[0m\n\u001b[1;32m      4\u001b[0m               local_pmf_pairs=aligned_cmap)\n",
      "\u001b[0;31mAttributeError\u001b[0m: 'function' object has no attribute 'jigsaw'"
     ]
    }
   ],
   "source": [
    "# jigsaw pairs align with the errors\n",
    "jigsaw.jigsaw(circuit, backend, \n",
    "              100, n_qubits=n_qubits, probs=probs, \n",
    "              local_pmf_pairs=aligned_cmap)"
   ]
  },
  {
   "cell_type": "markdown",
   "id": "6c0c72f6",
   "metadata": {},
   "source": [
    "### Anti-Aligned Jigsaw"
   ]
  },
  {
   "cell_type": "code",
   "execution_count": 26,
   "id": "bigger-silence",
   "metadata": {},
   "outputs": [
    {
     "name": "stdout",
     "output_type": "stream",
     "text": [
      "{'0000': 0.810546875, '0110': 0.095703125, '1001': 0.09375}\n",
      "[{'00': 1.0}, {'00': 1.0}]\n",
      "{'0000': 0.3333333333333333, '0110': 0.3333333333333333, '1001': 0.3333333333333333}\n",
      "{'0000': 0.3333333333333333, '1001': 0.3333333333333333, '0110': 0.3333333333333333}\n"
     ]
    },
    {
     "ename": "NameError",
     "evalue": "name 'rev_results_dict' is not defined",
     "output_type": "error",
     "traceback": [
      "\u001b[0;31m---------------------------------------------------------------------------\u001b[0m",
      "\u001b[0;31mNameError\u001b[0m                                 Traceback (most recent call last)",
      "\u001b[0;32m/tmp/ipykernel_701933/1825859067.py\u001b[0m in \u001b[0;36m<module>\u001b[0;34m\u001b[0m\n\u001b[1;32m      1\u001b[0m \u001b[0;31m# jigsaw pairs anti_align with the errors\u001b[0m\u001b[0;34m\u001b[0m\u001b[0;34m\u001b[0m\u001b[0m\n\u001b[0;32m----> 2\u001b[0;31m jigsaw(circuit, backend, \n\u001b[0m\u001b[1;32m      3\u001b[0m               \u001b[0;36m100\u001b[0m\u001b[0;34m,\u001b[0m \u001b[0mn_qubits\u001b[0m\u001b[0;34m=\u001b[0m\u001b[0mn_qubits\u001b[0m\u001b[0;34m,\u001b[0m \u001b[0mprobs\u001b[0m\u001b[0;34m=\u001b[0m\u001b[0mprobs\u001b[0m\u001b[0;34m,\u001b[0m\u001b[0;34m\u001b[0m\u001b[0;34m\u001b[0m\u001b[0m\n\u001b[1;32m      4\u001b[0m               local_pmf_pairs=anti_aligned_cmap)\n",
      "\u001b[0;32m/tmp/ipykernel_701933/796892646.py\u001b[0m in \u001b[0;36mjigsaw\u001b[0;34m(circuit, backend, n_shots, verbose, equal_shot_distribution, local_pmf_pairs, probs, n_qubits, meas_filter, norm_fix)\u001b[0m\n\u001b[1;32m     52\u001b[0m         \u001b[0mprint\u001b[0m\u001b[0;34m(\u001b[0m\u001b[0mglobal_pmf_table\u001b[0m\u001b[0;34m)\u001b[0m\u001b[0;34m\u001b[0m\u001b[0;34m\u001b[0m\u001b[0m\n\u001b[1;32m     53\u001b[0m \u001b[0;34m\u001b[0m\u001b[0m\n\u001b[0;32m---> 54\u001b[0;31m     \u001b[0mglobal_pmf_table\u001b[0m \u001b[0;34m=\u001b[0m \u001b[0mrev_results_dict\u001b[0m\u001b[0;34m(\u001b[0m\u001b[0mglobal_pmf_table\u001b[0m\u001b[0;34m)\u001b[0m\u001b[0;34m\u001b[0m\u001b[0;34m\u001b[0m\u001b[0m\n\u001b[0m\u001b[1;32m     55\u001b[0m     \u001b[0;32mreturn\u001b[0m \u001b[0mglobal_pmf_table\u001b[0m\u001b[0;34m\u001b[0m\u001b[0;34m\u001b[0m\u001b[0m\n",
      "\u001b[0;31mNameError\u001b[0m: name 'rev_results_dict' is not defined"
     ]
    }
   ],
   "source": [
    "# jigsaw pairs anti_align with the errors\n",
    "jigsaw(circuit, backend, \n",
    "              100, n_qubits=n_qubits, probs=probs, \n",
    "              local_pmf_pairs=anti_aligned_cmap)"
   ]
  },
  {
   "cell_type": "markdown",
   "id": "fdaf1a19",
   "metadata": {},
   "source": [
    "### Aligned CMC"
   ]
  },
  {
   "cell_type": "code",
   "execution_count": 14,
   "id": "9f940c68",
   "metadata": {},
   "outputs": [
    {
     "name": "stdout",
     "output_type": "stream",
     "text": [
      "Bare: {'0010': 1559, '0100': 12831, '1101': 1610}\n",
      "TPF: {'0100': 16000.0, '0010': 0.0}\n"
     ]
    }
   ],
   "source": [
    "res_d = probs(qiskit.execute(circuit, backend, shots=16000, optimization_level=0, initial_layout=initial_layout).result().get_counts())\n",
    "tpf = TensorPatchFitter(backend, n_shots=16000, coupling_map=aligned_cmap)\n",
    "tpf.build(probs=probs)\n",
    "print('Bare:', res_d)\n",
    "print('TPF:', tpf.apply(tpf.apply(res_d)))"
   ]
  },
  {
   "cell_type": "markdown",
   "id": "796ef354",
   "metadata": {},
   "source": [
    "### Anti-aligned CMC"
   ]
  },
  {
   "cell_type": "code",
   "execution_count": 15,
   "id": "abstract-christmas",
   "metadata": {},
   "outputs": [
    {
     "name": "stdout",
     "output_type": "stream",
     "text": [
      "Bare: {'0010': 1578, '0100': 12864, '1101': 1558}\n",
      "TPF: {'0100': 12864.0, '0010': 1578.0, '1101': 1558.0}\n"
     ]
    }
   ],
   "source": [
    "# CMC anti-aligned -> I\n",
    "res_d = probs(qiskit.execute(circuit, backend, shots=16000, optimization_level=0, initial_layout=initial_layout).result().get_counts())\n",
    "tpf = TensorPatchFitter(backend, n_shots=16000, coupling_map=anti_aligned_cmap)\n",
    "tpf.build(probs=probs)\n",
    "print('Bare:', res_d)\n",
    "print('TPF:', tpf.apply(tpf.apply(res_d)))"
   ]
  },
  {
   "cell_type": "code",
   "execution_count": 18,
   "id": "b3740cc8",
   "metadata": {},
   "outputs": [],
   "source": [
    "from PatchedMeasCal.jigsaw import build_local_pmf_circuit, build_local_pmf_tables, build_global_pmf, convolve\n",
    "\n",
    "def jigsaw(circuit, backend, n_shots, \n",
    "    verbose=False,  # Verbosity\n",
    "    equal_shot_distribution=False, # Splits number of shots equally, otherwise uses that number of shots per experiment\n",
    "    local_pmf_pairs=None, # Local pairs, random if not set\n",
    "    probs=None, # False error prob distribution\n",
    "    n_qubits=None,  # Number of qubits\n",
    "    meas_filter=None, # Inbuilt meas filter pass\n",
    "    norm_fix=False # Our normalisation fix for JIGSAW\n",
    "    ):\n",
    "\n",
    "    if n_qubits is None and backend.properties() is not None:\n",
    "        n_qubits = len(backend.properties()._qubits)\n",
    "\n",
    "    global_pmf_table = build_global_pmf(circuit, backend, n_shots, probs=probs, n_qubits=n_qubits)\n",
    "\n",
    "    # If no allocation is provided, use random\n",
    "    if local_pmf_pairs is None:\n",
    "        local_pmf_pairs = list(range(n_qubits))\n",
    "        random.shuffle(local_pmf_pairs)\n",
    "        local_pmf_pairs = [\n",
    "                [i, j] for i, j in zip(\n",
    "                    local_pmf_pairs[::2],\n",
    "                    local_pmf_pairs[1::2]\n",
    "                    )\n",
    "            ]\n",
    "\n",
    "    if equal_shot_distribution:\n",
    "        n_shots_global = n_shots // 2\n",
    "        n_shots_pmfs = n_shots // (2 * len(local_pmf_pairs))\n",
    "    else:\n",
    "        n_shots_global = n_shots\n",
    "        n_shots_pmfs = n_shots\n",
    "\n",
    "    # Because qiskit stores results strings backwards, the index ordering is reversed\n",
    "    local_pmf_pairs_index = [[(n_qubits - i - 1), (n_qubits - j - 1)] for i, j in local_pmf_pairs]\n",
    "\n",
    "    local_pmf_circs = [build_local_pmf_circuit(circuit, backend, pairs, n_qubits=n_qubits) for pairs in local_pmf_pairs]\n",
    "\n",
    "    local_pmf_tables = build_local_pmf_tables(\n",
    "        local_pmf_circs,\n",
    "        local_pmf_pairs_index,\n",
    "        backend,\n",
    "        n_shots_pmfs,\n",
    "        probs=probs,\n",
    "        n_qubits=n_qubits)\n",
    "    print(global_pmf_table)\n",
    "    print(local_pmf_tables)\n",
    "    for table, pair in zip(local_pmf_tables, local_pmf_pairs):\n",
    "        global_pmf_table = convolve(global_pmf_table, table, pair, norm_fix=norm_fix)\n",
    "        print(global_pmf_table)\n",
    "\n",
    "    global_pmf_table = rev_results_dict(global_pmf_table)\n",
    "    return global_pmf_table"
   ]
  },
  {
   "cell_type": "code",
   "execution_count": null,
   "id": "efc98140",
   "metadata": {},
   "outputs": [],
   "source": []
  }
 ],
 "metadata": {
  "kernelspec": {
   "display_name": "Python 3",
   "language": "python",
   "name": "python3"
  },
  "language_info": {
   "codemirror_mode": {
    "name": "ipython",
    "version": 3
   },
   "file_extension": ".py",
   "mimetype": "text/x-python",
   "name": "python",
   "nbconvert_exporter": "python",
   "pygments_lexer": "ipython3",
   "version": "3.9.7"
  }
 },
 "nbformat": 4,
 "nbformat_minor": 5
}
