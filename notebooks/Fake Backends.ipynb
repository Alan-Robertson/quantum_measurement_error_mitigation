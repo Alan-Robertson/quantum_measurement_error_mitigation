{
 "cells": [
  {
   "cell_type": "code",
   "execution_count": 9,
   "id": "ad999852",
   "metadata": {},
   "outputs": [],
   "source": [
    "from datetime import datetime\n",
    "from qiskit.providers.fake_provider import fake_backend\n",
    "from qiskit.providers.models import BackendProperties, QasmBackendConfiguration\n",
    "\n",
    "curr_time = str(datetime.now())\n"
   ]
  },
  {
   "cell_type": "code",
   "execution_count": 7,
   "id": "c77a719d",
   "metadata": {},
   "outputs": [],
   "source": [
    "def generate_configuration(name, n_qubits, cmap):\n",
    "    return QasmBackendConfiguration(\n",
    "            backend_name=name,\n",
    "            n_qubits=n_qubits,\n",
    "            basis_gates=[\"id\", \"rz\", \"sx\", \"x\", \"cx\"],\n",
    "            simulator=False,\n",
    "            local=True,\n",
    "            coupling_map=cmap,\n",
    "            backend_version=\"0.0.1\",\n",
    "            gates=[],\n",
    "            open_pulse=False,\n",
    "            conditional=False,\n",
    "            memory=False,\n",
    "            max_shots=float('inf'),\n",
    "            max_experiments=float('inf'),\n",
    "            supported_instructions=[\"measure\", \"u3\", \"setf\", \"x\", \"delay\", \"id\", \"acquire\", \"sx\", \"u2\", \"u1\", \"cx\", \"shiftf\", \"play\", \"rz\", \"reset\"],\n",
    "            multi_meas_enabled=False\n",
    "        )\n"
   ]
  },
  {
   "cell_type": "code",
   "execution_count": 8,
   "id": "aa350376",
   "metadata": {},
   "outputs": [
    {
     "data": {
      "text/plain": [
       "<qiskit.providers.models.backendconfiguration.QasmBackendConfiguration at 0x7fde876d1370>"
      ]
     },
     "execution_count": 8,
     "metadata": {},
     "output_type": "execute_result"
    }
   ],
   "source": [
    "def generate_properties(name, n_qubits, cmap, single_errors, double_errors, meas_errors):\n",
    "    properties = {\"backend_version\": \"0.0.1\", \"general\": [], \"last_update_date\": now, \"backend_name\": name}\n",
    "    \n",
    "    qubit_properties_template = [\n",
    "        ['T1', 600, 'µs'],\n",
    "        ['T2', 600, 'µs'],\n",
    "        ['frequency', 5, 'GHz'],\n",
    "        ['readout', 0.05, ''],\n",
    "        [\"prob_meas0_prep1\", 0.08, ''],\n",
    "        [\"prob_meas1_prep0\", 0.02, ''],\n",
    "        \n",
    "    qubit_properties = []\n",
    "    for i in range(n_qubits):\n",
    "        qubit_property = []\n",
    "        for template in qubit_properties_template: \n",
    "            qubit_property.append(qubit_property_builder(*template))\n",
    "        qubit_properties.append(qubit_property)\n",
    "    \n",
    "\n",
    "def qubit_property_builder(name, value, unit):\n",
    "    return {\"date\": curr_time, \"unit\": unit, \"value\": value, \"name\": name}\n",
    "    "
   ]
  },
  {
   "cell_type": "code",
   "execution_count": null,
   "id": "7bbd70da",
   "metadata": {},
   "outputs": [],
   "source": [
    "class FakeIonq16(fake_backend.FakeBackend):\n",
    "    \"\"\"A fake 16 qubit fully connected backend.\"\"\"\n",
    "\n",
    "    def __init__():\n",
    "        super().super().__init__(\n",
    "            provider=None,\n",
    "            name='FakeIonq16'            \n",
    "        )\n",
    "        self._target = None\n",
    "        self.sim = None\n",
    "        \n",
    "        \n",
    "    def gen_conf():\n",
    "        return {\n",
    "            \n",
    "        }\n",
    "        "
   ]
  }
 ],
 "metadata": {
  "kernelspec": {
   "display_name": "Python 3",
   "language": "python",
   "name": "python3"
  },
  "language_info": {
   "codemirror_mode": {
    "name": "ipython",
    "version": 3
   },
   "file_extension": ".py",
   "mimetype": "text/x-python",
   "name": "python",
   "nbconvert_exporter": "python",
   "pygments_lexer": "ipython3",
   "version": "3.9.7"
  }
 },
 "nbformat": 4,
 "nbformat_minor": 5
}
