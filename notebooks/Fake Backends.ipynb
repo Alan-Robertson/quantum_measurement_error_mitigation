{
 "cells": [
  {
   "cell_type": "code",
   "execution_count": 1,
   "id": "ad999852",
   "metadata": {},
   "outputs": [],
   "source": [
    "import qiskit\n",
    "\n",
    "from PatchedMeasCal.edge_bfs import CouplingMapGraph\n",
    "from PatchedMeasCal.tensor_patch_cal import TensorPatchFitter\n",
    "from PatchedMeasCal.fake_backends import Grid, Hexagonal16, FullyConnected, SquareOctagonal\n",
    "\n",
    "\n",
    "from qiskit.ignis.mitigation.measurement import complete_meas_cal, CompleteMeasFitter\n",
    "\n",
    "import qiskit.tools.jupyter"
   ]
  },
  {
   "cell_type": "code",
   "execution_count": 28,
   "id": "blank-composite",
   "metadata": {},
   "outputs": [
    {
     "data": {
      "application/vnd.jupyter.widget-view+json": {
       "model_id": "f1b79f1789cb44c1b61212cdecaa62ad",
       "version_major": 2,
       "version_minor": 0
      },
      "text/plain": [
       "VBox(children=(HTML(value=\"<h1 style='color:#ffffff;background-color:#000000;padding-top: 1%;padding-bottom: 1…"
      ]
     },
     "metadata": {},
     "output_type": "display_data"
    },
    {
     "data": {
      "text/plain": [
       "<SquareOctagonal('Oct')>"
      ]
     },
     "execution_count": 28,
     "metadata": {},
     "output_type": "execute_result"
    }
   ],
   "source": [
    "dev = SquareOctagonal(1, 2)\n",
    "dev"
   ]
  },
  {
   "cell_type": "code",
   "execution_count": 29,
   "id": "white-corner",
   "metadata": {},
   "outputs": [
    {
     "data": {
      "text/plain": [
       "[[[0, 4], [12, 13], [10, 14], [7, 11]],\n",
       " [[0, 1], [2, 6], [9, 13]],\n",
       " [[1, 5], [2, 3], [11, 15]],\n",
       " [[3, 7], [6, 10]],\n",
       " [[4, 8]],\n",
       " [[5, 9], [14, 15], [8, 12]],\n",
       " [[5, 6]],\n",
       " [[9, 10]]]"
      ]
     },
     "execution_count": 29,
     "metadata": {},
     "output_type": "execute_result"
    }
   ],
   "source": [
    "patches = CouplingMapGraph(dev.configuration().coupling_map)\n",
    "patches.edge_patches()"
   ]
  },
  {
   "cell_type": "code",
   "execution_count": 2,
   "id": "level-finish",
   "metadata": {},
   "outputs": [],
   "source": [
    "def plus_state_prep(backend):\n",
    "    n_qubits = backend.n_qubits\n",
    "    coupling_map = backend._coupling_map\n",
    "    \n",
    "    targeted_qubits = [0]\n",
    "    circuit = qiskit.QuantumCircuit(n_qubits, n_qubits)\n",
    "    circuit.h(0)\n",
    "    \n",
    "    while len(targeted_qubits) < n_qubits:\n",
    "        for i in range(n_qubits):\n",
    "            if i not in targeted_qubits: # Qubit not yet added\n",
    "                for edge in coupling_map: # For each edge in the map\n",
    "                    if i in edge:\n",
    "                        ctrl = edge[edge[0] == i]\n",
    "                        targ = edge[edge[1] == i]\n",
    "                        circuit.cnot(ctrl, targ)\n",
    "                        targeted_qubits.append(i)\n",
    "                        break\n",
    "    circuit.measure(list(range(n_qubits)), list(range(n_qubits)))\n",
    "    return circuit  "
   ]
  },
  {
   "cell_type": "code",
   "execution_count": 3,
   "id": "animated-halifax",
   "metadata": {},
   "outputs": [
    {
     "data": {
      "application/vnd.jupyter.widget-view+json": {
       "model_id": "57f05aa7c4a84dc2ba34acfaa031c157",
       "version_major": 2,
       "version_minor": 0
      },
      "text/plain": [
       "VBox(children=(HTML(value=\"<h1 style='color:#ffffff;background-color:#000000;padding-top: 1%;padding-bottom: 1…"
      ]
     },
     "metadata": {},
     "output_type": "display_data"
    },
    {
     "data": {
      "text/plain": [
       "<Grid('square')>"
      ]
     },
     "execution_count": 3,
     "metadata": {},
     "output_type": "execute_result"
    }
   ],
   "source": [
    "Grid(4, 4)"
   ]
  },
  {
   "cell_type": "code",
   "execution_count": 4,
   "id": "challenging-norman",
   "metadata": {},
   "outputs": [
    {
     "name": "stdout",
     "output_type": "stream",
     "text": [
      "Building Coupling Graph\n",
      "Building Edge Calibrations\n",
      "\tBuilding Calibration Circuits\n",
      "\tBuilding Edge Patches : [==================> ] 100.0% \n",
      "\tBuilding Edge Patches : [===================>] 100.0% \n",
      "\tConstructing Calibration Circuits : [================>   ] 100.0% \n",
      "\tExecuting Calibration Circuits\n",
      "\tDe-hexing Measurement Results\n",
      "\tTracing Patched Calibration Results : [================>   ] 100.0% \n",
      "Building Patch Calibrations\n",
      "\tMerging Patches : [=================>  ] 100.0% \n",
      "Building Measure Fitter\n",
      "\tBuilding Meas Fitters from Patches : [==================> ] 100.0% \n"
     ]
    },
    {
     "data": {
      "text/plain": [
       "[None]"
      ]
     },
     "execution_count": 4,
     "metadata": {},
     "output_type": "execute_result"
    }
   ],
   "source": [
    "n_qubits = 16\n",
    "backends = [Grid(4, 4)]#, Hexagonal16()]#, FullyConnected(n_qubits)]\n",
    "\n",
    "n_shots = 16000\n",
    "\n",
    "fitters = [TensorPatchFitter(backend, n_shots=n_shots) for backend in backends]\n",
    "[fitter.build(verbose=True) for fitter in fitters]"
   ]
  },
  {
   "cell_type": "code",
   "execution_count": 5,
   "id": "broad-intranet",
   "metadata": {},
   "outputs": [],
   "source": [
    "initial_layout = list(range(n_qubits))\n",
    "\n",
    "for backend in backends[:1]:\n",
    "    circ = plus_state_prep(backend)\n",
    "    tc = qiskit.transpile(circ, backend=backend, initial_layout=initial_layout, optimization_level=0)\n",
    "    results = qiskit.execute(tc, backend, shots=n_shots, initial_layout=initial_layout, optimization_level=0).result()"
   ]
  },
  {
   "cell_type": "code",
   "execution_count": 17,
   "id": "flush-scratch",
   "metadata": {},
   "outputs": [
    {
     "data": {
      "text/plain": [
       "2872"
      ]
     },
     "execution_count": 17,
     "metadata": {},
     "output_type": "execute_result"
    }
   ],
   "source": [
    "results.get_counts()['1' * 16]"
   ]
  },
  {
   "cell_type": "code",
   "execution_count": 7,
   "id": "solar-invalid",
   "metadata": {},
   "outputs": [
    {
     "data": {
      "text/plain": [
       "16000"
      ]
     },
     "execution_count": 7,
     "metadata": {},
     "output_type": "execute_result"
    }
   ],
   "source": [
    "n_shots"
   ]
  },
  {
   "cell_type": "code",
   "execution_count": 8,
   "id": "neural-transition",
   "metadata": {},
   "outputs": [],
   "source": [
    "f_res = fitters[0].apply(results.get_counts())"
   ]
  },
  {
   "cell_type": "code",
   "execution_count": 18,
   "id": "reduced-attempt",
   "metadata": {},
   "outputs": [
    {
     "data": {
      "text/plain": [
       "6283.463488538778"
      ]
     },
     "execution_count": 18,
     "metadata": {},
     "output_type": "execute_result"
    }
   ],
   "source": [
    "f_res['1' * 16]"
   ]
  },
  {
   "cell_type": "code",
   "execution_count": null,
   "id": "another-federal",
   "metadata": {},
   "outputs": [],
   "source": []
  }
 ],
 "metadata": {
  "kernelspec": {
   "display_name": "Python 3",
   "language": "python",
   "name": "python3"
  },
  "language_info": {
   "codemirror_mode": {
    "name": "ipython",
    "version": 3
   },
   "file_extension": ".py",
   "mimetype": "text/x-python",
   "name": "python",
   "nbconvert_exporter": "python",
   "pygments_lexer": "ipython3",
   "version": "3.8.3"
  }
 },
 "nbformat": 4,
 "nbformat_minor": 5
}
