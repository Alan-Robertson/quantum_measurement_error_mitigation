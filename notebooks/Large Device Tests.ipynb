{
 "cells": [
  {
   "cell_type": "code",
   "execution_count": 1,
   "id": "written-pressing",
   "metadata": {},
   "outputs": [],
   "source": [
    "import qiskit\n",
    "\n",
    "from PatchedMeasCal.tensor_patch_cal import TensorPatchFitter\n",
    "from PatchedMeasCal.fake_backends import Grid, Hexagonal16, FullyConnected, SquareOctagonal\n",
    "from PatchedMeasCal.inv_measure_methods import aim, sim\n",
    "from PatchedMeasCal import state_prep_circuits\n",
    "from PatchedMeasCal.fake_measurement_distributions import renormalise_measurement_results\n",
    "\n",
    "from qiskit.ignis.mitigation.measurement import complete_meas_cal, CompleteMeasFitter\n",
    "from qiskit.ignis.mitigation.measurement import tensored_meas_cal, TensoredMeasFitter\n",
    "\n",
    "import qiskit.tools.jupyter"
   ]
  },
  {
   "cell_type": "code",
   "execution_count": 2,
   "id": "turkish-drill",
   "metadata": {},
   "outputs": [],
   "source": [
    "n_qubits = 16\n",
    "n_shots = 16000\n",
    "\n",
    "backend = Hexagonal16()\n",
    "circuits = [\n",
    "    state_prep_circuits.plus_state_prep(backend), \n",
    "    state_prep_circuits.equal_superposition_state_prep(backend)\n",
    "           ]"
   ]
  },
  {
   "cell_type": "markdown",
   "id": "abandoned-housing",
   "metadata": {},
   "source": [
    "## TPF\n",
    "This may take a minute to compile"
   ]
  },
  {
   "cell_type": "code",
   "execution_count": 3,
   "id": "valid-wright",
   "metadata": {},
   "outputs": [
    {
     "name": "stdout",
     "output_type": "stream",
     "text": [
      "Building Coupling Graph\n",
      "Building Edge Calibrations\n",
      "\tBuilding Calibration Circuits\n",
      "\tBuilding Edge Patches : [====================] 100.0% \n",
      "\tBuilding Edge Patches : [====================] 100.0% \n",
      "\tConstructing Calibration Circuits : [====================] 100.0% \n",
      "\tExecuting Calibration Circuits\n",
      "\tDe-hexing Measurement Results\n",
      "\tTracing Patched Calibration Results : [====================] 100.0% \n",
      "Building Patch Calibrations\n",
      "\tMerging Patches : [====================] 100.0% \n",
      "Building Measure Fitter\n",
      "\tBuilding Meas Fitters from Patches : [====================] 100.0% \n"
     ]
    }
   ],
   "source": [
    "# Half shots on building, half on execution\n",
    "tpf = TensorPatchFitter(backend, n_shots=n_shots / 2)\n",
    "tpf.build(verbose=True)"
   ]
  },
  {
   "cell_type": "markdown",
   "id": "agreed-stevens",
   "metadata": {},
   "source": [
    "## Qiskit Full\n",
    "This one may take several minutes to hours to compile, and will ultimately fail anyway when being applied \n",
    "as it attempts to allocate an array of size >200Gb"
   ]
  },
  {
   "cell_type": "code",
   "execution_count": 6,
   "id": "threaded-german",
   "metadata": {},
   "outputs": [],
   "source": [
    "if False:\n",
    "    # Half shots on building the model, half on calibration\n",
    "    # For a fair test uncomment the next line, however for large n this will rapidly become useless\n",
    "    n_shots_qiskit_full = n_shots #// (2 ** (n_qubits - 1)) \n",
    "\n",
    "    qr = qiskit.QuantumRegister(n_qubits)\n",
    "    meas_calibs, state_labels = complete_meas_cal(qr=qr, circlabel='mcal')\n",
    "    t_qc = qiskit.transpile(meas_calibs, backend)\n",
    "    cal_results = qiskit.execute(t_qc, backend, shots=n_shots_qiskit_full).result()\n",
    "    meas_fitter = CompleteMeasFitter(cal_results, state_labels, circlabel='mcal')\n",
    "    full_filter = meas_fitter.filter"
   ]
  },
  {
   "cell_type": "markdown",
   "id": "excellent-intelligence",
   "metadata": {},
   "source": [
    "## Qiskit Partial\n",
    "This will compile very quickly, butwill ultimately fail anyway when being applied as it attempts to allocate an array of size >200Gb"
   ]
  },
  {
   "cell_type": "code",
   "execution_count": 7,
   "id": "indoor-allen",
   "metadata": {},
   "outputs": [],
   "source": [
    "#f False:\n",
    "# Build Calibration Matrix\n",
    "mit_pattern = [[i] for i in range(n_qubits)]\n",
    "\n",
    "# Half shots on building the model, half on calibration\n",
    "n_shots_qiskit_partial = n_shots // (n_qubits / 2)\n",
    "\n",
    "qr = qiskit.QuantumRegister(n_qubits)\n",
    "meas_calibs, state_labels = tensored_meas_cal(mit_pattern=mit_pattern, qr=qr, circlabel='mcal')\n",
    "t_qc = qiskit.transpile(meas_calibs, backend)\n",
    "cal_results = qiskit.execute(t_qc, backend, shots=n_shots).result()\n",
    "meas_fitter = TensoredMeasFitter(cal_results, state_labels, circlabel='mcal')\n",
    "linear_fitter = meas_fitter.filter"
   ]
  },
  {
   "cell_type": "code",
   "execution_count": 10,
   "id": "august-dining",
   "metadata": {},
   "outputs": [],
   "source": [
    "circ = circuits[0]\n",
    "c_res = qiskit.execute(circ, backend)"
   ]
  },
  {
   "cell_type": "code",
   "execution_count": 14,
   "id": "divided-vietnam",
   "metadata": {},
   "outputs": [],
   "source": [
    "cr = c_res.result().get_counts()"
   ]
  },
  {
   "cell_type": "code",
   "execution_count": 16,
   "id": "appreciated-johnson",
   "metadata": {},
   "outputs": [
    {
     "data": {
      "text/plain": [
       "34359738368"
      ]
     },
     "execution_count": 16,
     "metadata": {},
     "output_type": "execute_result"
    }
   ],
   "source": [
    "8 * (2 ** 16) ** 2"
   ]
  },
  {
   "cell_type": "code",
   "execution_count": null,
   "id": "enormous-relation",
   "metadata": {},
   "outputs": [],
   "source": [
    "circuit_res = []\n",
    "aim_res = []\n",
    "sim_res = []\n",
    "tpf_res = []\n",
    "for circuit in circuits:\n",
    "    \n",
    "    tc = qiskit.transpile(circuit,\n",
    "                          backend,\n",
    "                          optimization_level=0,\n",
    "                          initial_layout=list(range(n_qubits))\n",
    "                         )\n",
    "    cr = qiskit.execute(circuit, \n",
    "                         backend, \n",
    "                         shots=n_shots / 2, \n",
    "                         optimization_level=0,\n",
    "                         initial_layout=list(range(n_qubits))\n",
    "                        ).result().get_counts()\n",
    "    cr_n = renormalise_measurement_results(cr, 1)\n",
    "    circuit_res.append(cr_n)\n",
    "    \n",
    "    ar = aim(circuit, backend, n_qubits, n_shots=n_shots, equal_shot_distribution=True)\n",
    "    ar = renormalise_measurement_results(ar, 1)\n",
    "    aim_res.append(ar)\n",
    "    \n",
    "    sr = sim(circuit, backend, n_qubits, n_shots=n_shots, equal_shot_distribution=True) \n",
    "    sr = renormalise_measurement_results(sr, 1)\n",
    "    sim_res.append(sr)\n",
    "    \n",
    "    tr = tpf.apply(cr)\n",
    "    tr = renormalise_measurement_results(tr, 1)\n",
    "    tpf_res.append(tr)"
   ]
  },
  {
   "cell_type": "code",
   "execution_count": null,
   "id": "invalid-methodology",
   "metadata": {},
   "outputs": [],
   "source": [
    "print(tpf_res[0]['0' * n_qubits], tpf_res[0]['1' * n_qubits])\n",
    "print(aim_res[0]['0' * n_qubits], aim_res[0]['1' * n_qubits])\n",
    "print(sim_res[0]['0' * n_qubits], sim_res[0]['1' * n_qubits])"
   ]
  }
 ],
 "metadata": {
  "kernelspec": {
   "display_name": "Python 3",
   "language": "python",
   "name": "python3"
  },
  "language_info": {
   "codemirror_mode": {
    "name": "ipython",
    "version": 3
   },
   "file_extension": ".py",
   "mimetype": "text/x-python",
   "name": "python",
   "nbconvert_exporter": "python",
   "pygments_lexer": "ipython3",
   "version": "3.8.3"
  }
 },
 "nbformat": 4,
 "nbformat_minor": 5
}
