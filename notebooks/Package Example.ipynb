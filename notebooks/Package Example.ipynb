{
 "cells": [
  {
   "cell_type": "code",
   "execution_count": 1,
   "id": "d43deb33",
   "metadata": {},
   "outputs": [],
   "source": [
    "from PatchedMeasCal.edge_bfs import CouplingMapGraph\n",
    "from PatchedMeasCal.tensor_patch_cal import TensorPatchFitter\n",
    "\n",
    "import qiskit\n",
    "from qiskit.providers.fake_provider import FakeVigo, FakeTokyo\n",
    "\n",
    "from qiskit.ignis.mitigation.measurement import complete_meas_cal, CompleteMeasFitter\n",
    "import qiskit.tools.jupyter"
   ]
  },
  {
   "cell_type": "code",
   "execution_count": 2,
   "id": "3c8140b7",
   "metadata": {},
   "outputs": [],
   "source": [
    "n_qubits = 5\n",
    "n_shots = 32000\n",
    "\n",
    "backend = FakeVigo()\n",
    "\n",
    "# If you want to use the same total number of shots to prepare each calibration\n",
    "n_shots_qiskit = n_shots / (2 ** n_qubits) # One calibration circuit per bitstring\n",
    "n_shots_patch = n_shots / (2 * len(backend.configuration().coupling_map)) # 4 for each calibration, but the coupling map double counts\n",
    "#backend = FakeTokyo()"
   ]
  },
  {
   "cell_type": "markdown",
   "id": "aca75f99",
   "metadata": {},
   "source": [
    "## Qiskit\n",
    "This will take approximately forever to complete for larger devices"
   ]
  },
  {
   "cell_type": "code",
   "execution_count": 3,
   "id": "0df7dbcc",
   "metadata": {},
   "outputs": [],
   "source": [
    "qr = qiskit.QuantumRegister(n_qubits)\n",
    "meas_calibs, state_labels = complete_meas_cal(qr=qr, circlabel='mcal')\n",
    "t_qc = qiskit.transpile(meas_calibs, backend)\n",
    "cal_results = qiskit.execute(t_qc, backend, shots=n_shots_qiskit).result()\n",
    "meas_fitter = CompleteMeasFitter(cal_results, state_labels, circlabel='mcal')\n",
    "meas_filter = meas_fitter.filter"
   ]
  },
  {
   "cell_type": "markdown",
   "id": "9f9518e8",
   "metadata": {},
   "source": [
    "## Patched"
   ]
  },
  {
   "cell_type": "code",
   "execution_count": 4,
   "id": "a053ddbf",
   "metadata": {},
   "outputs": [
    {
     "name": "stdout",
     "output_type": "stream",
     "text": [
      "Building Coupling Graph\n",
      "Building Edge Calibrations\n",
      "\tBuilding Calibration Circuits\n",
      "\tBuilding Edge Patches : [==========>         ] 100.0% \n",
      "\tBuilding Edge Patches : [===============>    ] 100.0% \n",
      "\tConstructing Calibration Circuits : [==========>         ] 100.0% \n",
      "\tExecuting Calibration Circuits\n",
      "\tDe-hexing Measurement Results\n",
      "\tTracing Patched Calibration Results : [==========>         ] 100.0% \n",
      "Building Patch Calibrations\n",
      "\tMerging Patches : [============>       ] 100.0% \n",
      "Building Measure Fitter\n",
      "\tBuilding Meas Fitters from Patches : [==========>         ] 100.0% \n"
     ]
    }
   ],
   "source": [
    "tpf = TensorPatchFitter(backend, n_shots=n_shots_patch)\n",
    "tpf.build(verbose=True)"
   ]
  },
  {
   "cell_type": "markdown",
   "id": "219c1db6",
   "metadata": {},
   "source": [
    "## The circuit to test"
   ]
  },
  {
   "cell_type": "code",
   "execution_count": 5,
   "id": "20c08289",
   "metadata": {},
   "outputs": [],
   "source": [
    "circ = qiskit.QuantumCircuit(n_qubits, n_qubits)\n",
    "initial_layout = list(range(n_qubits))\n",
    "\n",
    "circ.h(0)\n",
    "for i in range(1, n_qubits):\n",
    "    circ.cnot(i - 1, i)\n",
    "\n",
    "circ.measure(initial_layout, initial_layout)\n",
    "tc = qiskit.transpile(circ, backend=backend, initial_layout=initial_layout, optimization_level=0)\n",
    "results = qiskit.execute(tc, backend, shots=n_shots, initial_layout=initial_layout, optimization_level=0).result()"
   ]
  },
  {
   "cell_type": "code",
   "execution_count": 6,
   "id": "a4e57ba1",
   "metadata": {},
   "outputs": [],
   "source": [
    "bare_res = results.get_counts()\n",
    "tpf_res, arr = tpf.apply(bare_res)\n",
    "qiskit_res = meas_filter.apply(bare_res)"
   ]
  },
  {
   "cell_type": "code",
   "execution_count": 7,
   "id": "84189c2a",
   "metadata": {},
   "outputs": [],
   "source": [
    "def dist(res, n_shots, n_qubits):\n",
    "    distance = abs(res['0' * n_qubits] - n_shots / 2) + abs(res['1' * n_qubits] - n_shots / 2)\n",
    "    distance /= n_shots\n",
    "    return distance"
   ]
  },
  {
   "cell_type": "code",
   "execution_count": 8,
   "id": "82ebbc0d",
   "metadata": {},
   "outputs": [
    {
     "name": "stdout",
     "output_type": "stream",
     "text": [
      "0.18559375\n",
      "0.11098349510273607\n",
      "0.037733469097223346\n"
     ]
    }
   ],
   "source": [
    "print(dist(bare_res, n_shots, n_qubits))\n",
    "print(dist(tpf_res, n_shots, n_qubits))\n",
    "print(dist(qiskit_res, n_shots, n_qubits))"
   ]
  },
  {
   "cell_type": "code",
   "execution_count": 9,
   "id": "6e69ac22",
   "metadata": {},
   "outputs": [
    {
     "name": "stdout",
     "output_type": "stream",
     "text": [
      "12408 13653\n",
      "15132.937092188193 15659.59189670066\n",
      "14803.716984034723 13644.811172677722\n"
     ]
    }
   ],
   "source": [
    "print(bare_res['1' * n_qubits], bare_res['0' * n_qubits])\n",
    "print(qiskit_res['1' * n_qubits], qiskit_res['0' * n_qubits])\n",
    "print(tpf_res['1' * n_qubits], tpf_res['0' * n_qubits])"
   ]
  },
  {
   "cell_type": "code",
   "execution_count": 10,
   "id": "82d5c2a6",
   "metadata": {},
   "outputs": [
    {
     "data": {
      "text/plain": [
       "32000.000000003285"
      ]
     },
     "execution_count": 10,
     "metadata": {},
     "output_type": "execute_result"
    }
   ],
   "source": [
    "sum(qiskit_res.values())"
   ]
  },
  {
   "cell_type": "code",
   "execution_count": 11,
   "id": "neither-wound",
   "metadata": {},
   "outputs": [
    {
     "data": {
      "text/plain": [
       "31999.999999999996"
      ]
     },
     "execution_count": 11,
     "metadata": {},
     "output_type": "execute_result"
    }
   ],
   "source": [
    "sum(tpf_res.values())"
   ]
  },
  {
   "cell_type": "code",
   "execution_count": null,
   "id": "medieval-lancaster",
   "metadata": {},
   "outputs": [],
   "source": []
  }
 ],
 "metadata": {
  "kernelspec": {
   "display_name": "Python 3",
   "language": "python",
   "name": "python3"
  },
  "language_info": {
   "codemirror_mode": {
    "name": "ipython",
    "version": 3
   },
   "file_extension": ".py",
   "mimetype": "text/x-python",
   "name": "python",
   "nbconvert_exporter": "python",
   "pygments_lexer": "ipython3",
   "version": "3.8.3"
  }
 },
 "nbformat": 4,
 "nbformat_minor": 5
}
