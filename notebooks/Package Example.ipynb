{
 "cells": [
  {
   "cell_type": "code",
   "execution_count": null,
   "id": "d43deb33",
   "metadata": {},
   "outputs": [],
   "source": [
    "from PatchedMeasCal.edge_bfs import CouplingMapGraph\n",
    "from PatchedMeasCal.tensor_patch_cal import TensorPatchFitter\n",
    "from PatchedMeasCal.fake_measurement_distributions import renormalise_measurement_results\n",
    "\n",
    "# Measurement Error Mitigation Methods\n",
    "from PatchedMeasCal.tensor_patch_cal import TensorPatchFitter\n",
    "from PatchedMeasCal.inv_measure_methods import aim, sim\n",
    "from PatchedMeasCal.jigsaw import jigsaw\n",
    "from PatchedMeasCal.qiskit_meas_fitters import qiskit_full, qiskit_linear\n",
    "\n",
    "# Fake Qiskit Backends\n",
    "import qiskit\n",
    "from qiskit.providers.fake_provider import FakeVigo, FakeTokyo\n",
    "\n",
    "import qiskit.tools.jupyter"
   ]
  },
  {
   "cell_type": "code",
   "execution_count": null,
   "id": "3c8140b7",
   "metadata": {},
   "outputs": [],
   "source": [
    "n_qubits = 20\n",
    "n_shots = 32000\n",
    "\n",
    "backend = FakeTokyo()\n",
    "\n",
    "# If you want to use the same total number of shots to prepare each calibration\n",
    "n_shots_qiskit = n_shots / (2 ** n_qubits) # One calibration circuit per bitstring\n",
    "n_shots_patch = n_shots / (2 * len(backend.configuration().coupling_map)) # 4 for each calibration, but the coupling map double counts"
   ]
  },
  {
   "cell_type": "markdown",
   "id": "aca75f99",
   "metadata": {},
   "source": [
    "## Qiskit\n",
    "This will take approximately forever to complete for larger devices\n",
    "It will OOM if the device is large enough"
   ]
  },
  {
   "cell_type": "code",
   "execution_count": null,
   "id": "0df7dbcc",
   "metadata": {},
   "outputs": [],
   "source": [
    "q_full = qiskit_full(backend, n_qubits, n_shots_qiskit)\n",
    "q_lin = qiskit_linear(backend, n_qubits, n_shots_qiskit)"
   ]
  },
  {
   "cell_type": "markdown",
   "id": "9f9518e8",
   "metadata": {},
   "source": [
    "## Patched"
   ]
  },
  {
   "cell_type": "code",
   "execution_count": null,
   "id": "a053ddbf",
   "metadata": {},
   "outputs": [],
   "source": [
    "tpf = TensorPatchFitter(backend, n_shots=n_shots_patch)\n",
    "tpf.build(verbose=True)"
   ]
  },
  {
   "cell_type": "markdown",
   "id": "219c1db6",
   "metadata": {},
   "source": [
    "## The circuit to test"
   ]
  },
  {
   "cell_type": "code",
   "execution_count": null,
   "id": "20c08289",
   "metadata": {},
   "outputs": [],
   "source": [
    "circ = qiskit.QuantumCircuit(n_qubits, n_qubits)\n",
    "initial_layout = list(range(n_qubits))\n",
    "\n",
    "circ.h(0)\n",
    "for i in range(1, n_qubits):\n",
    "    circ.cnot(i - 1, i)\n",
    "\n",
    "circ.measure(initial_layout, initial_layout)"
   ]
  },
  {
   "cell_type": "markdown",
   "id": "handled-heading",
   "metadata": {},
   "source": [
    "### Circuit results"
   ]
  },
  {
   "cell_type": "code",
   "execution_count": null,
   "id": "unexpected-sucking",
   "metadata": {},
   "outputs": [],
   "source": [
    "tc = qiskit.transpile(circ, backend=backend, initial_layout=initial_layout, optimization_level=0)\n",
    "results = qiskit.execute(tc, backend, shots=n_shots, initial_layout=initial_layout, optimization_level=0).result()\n",
    "bare_res = results.get_counts()"
   ]
  },
  {
   "cell_type": "markdown",
   "id": "intended-aging",
   "metadata": {},
   "source": [
    "### SIM and AIM"
   ]
  },
  {
   "cell_type": "code",
   "execution_count": null,
   "id": "unknown-straight",
   "metadata": {},
   "outputs": [],
   "source": [
    "sim_res = sim(circ, backend, n_qubits, n_shots=n_shots, equal_shot_distribution=True)\n",
    "aim_res = aim(circ, backend, n_qubits, n_shots=n_shots, equal_shot_distribution=True)"
   ]
  },
  {
   "cell_type": "markdown",
   "id": "pressed-manor",
   "metadata": {},
   "source": [
    "### Apply patched"
   ]
  },
  {
   "cell_type": "code",
   "execution_count": null,
   "id": "a4e57ba1",
   "metadata": {},
   "outputs": [],
   "source": [
    "tpf_res= tpf.apply(bare_res)"
   ]
  },
  {
   "cell_type": "markdown",
   "id": "commercial-worse",
   "metadata": {},
   "source": [
    "### Apply qiskit"
   ]
  },
  {
   "cell_type": "code",
   "execution_count": null,
   "id": "offshore-removal",
   "metadata": {},
   "outputs": [],
   "source": [
    "qiskit_res_full = q_full.apply(bare_res)\n",
    "qiskit_res_linear = q_lin.apply(bare_res)"
   ]
  },
  {
   "cell_type": "markdown",
   "id": "interim-holocaust",
   "metadata": {},
   "source": [
    "### Distance Measure"
   ]
  },
  {
   "cell_type": "code",
   "execution_count": null,
   "id": "84189c2a",
   "metadata": {},
   "outputs": [],
   "source": [
    "def dist(res, n_shots, n_qubits):\n",
    "    distance = abs(res['0' * n_qubits] - n_shots / 2) + abs(res['1' * n_qubits] - n_shots / 2)\n",
    "    distance += sum(abs(res[r]) for r in res if (r != '1' * n_qubits and r != '0' * n_qubits))\n",
    "    distance /= n_shots\n",
    "    return distance"
   ]
  },
  {
   "cell_type": "markdown",
   "id": "bibliographic-nitrogen",
   "metadata": {},
   "source": [
    "### Results"
   ]
  },
  {
   "cell_type": "code",
   "execution_count": null,
   "id": "82ebbc0d",
   "metadata": {},
   "outputs": [],
   "source": [
    "print('Bare', dist(bare_res, n_shots, n_qubits))\n",
    "print('tpf', dist(tpf_res, n_shots, n_qubits))\n",
    "print('sim', dist(sim_res, n_shots, n_qubits))\n",
    "print('aim', dist(aim_res, n_shots // 2, n_qubits))"
   ]
  },
  {
   "cell_type": "markdown",
   "id": "d4f6e8a8",
   "metadata": {},
   "source": [
    "### Qiskit Res"
   ]
  },
  {
   "cell_type": "code",
   "execution_count": null,
   "id": "29ba7357",
   "metadata": {},
   "outputs": [],
   "source": [
    "print('qiskit full', dist(qiskit_res_full, n_shots, n_qubits))\n",
    "print('qiskit linear', dist(qiskit_res_linear, n_shots, n_qubits))"
   ]
  },
  {
   "cell_type": "code",
   "execution_count": null,
   "id": "6e69ac22",
   "metadata": {},
   "outputs": [],
   "source": [
    "print(bare_res['1' * n_qubits], bare_res['0' * n_qubits])\n",
    "print(qiskit_res['1' * n_qubits], qiskit_res['0' * n_qubits])\n",
    "print(tpf_res['1' * n_qubits], tpf_res['0' * n_qubits])"
   ]
  },
  {
   "cell_type": "code",
   "execution_count": null,
   "id": "82d5c2a6",
   "metadata": {},
   "outputs": [],
   "source": [
    "sum(qiskit_res.values())"
   ]
  },
  {
   "cell_type": "code",
   "execution_count": null,
   "id": "neither-wound",
   "metadata": {},
   "outputs": [],
   "source": [
    "sum(tpf_res.values())"
   ]
  },
  {
   "cell_type": "code",
   "execution_count": null,
   "id": "medieval-lancaster",
   "metadata": {},
   "outputs": [],
   "source": []
  }
 ],
 "metadata": {
  "kernelspec": {
   "display_name": "Python 3",
   "language": "python",
   "name": "python3"
  },
  "language_info": {
   "codemirror_mode": {
    "name": "ipython",
    "version": 3
   },
   "file_extension": ".py",
   "mimetype": "text/x-python",
   "name": "python",
   "nbconvert_exporter": "python",
   "pygments_lexer": "ipython3",
   "version": "3.9.7"
  }
 },
 "nbformat": 4,
 "nbformat_minor": 5
}
