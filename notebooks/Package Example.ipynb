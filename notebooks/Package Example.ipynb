{
 "cells": [
  {
   "cell_type": "code",
   "execution_count": 1,
   "id": "d43deb33",
   "metadata": {},
   "outputs": [],
   "source": [
    "from PatchedMeasCal.edge_bfs import CouplingMapGraph\n",
    "from PatchedMeasCal.tensor_patch_cal import TensorPatchFitter\n",
    "\n",
    "import qiskit\n",
    "from qiskit.providers.fake_provider import FakeVigo, FakeTokyo\n",
    "\n",
    "from qiskit.ignis.mitigation.measurement import complete_meas_cal, CompleteMeasFitter"
   ]
  },
  {
   "cell_type": "code",
   "execution_count": 10,
   "id": "3c8140b7",
   "metadata": {},
   "outputs": [],
   "source": [
    "n_qubits = 20\n",
    "n_shots = 32000\n",
    "\n",
    "backend = FakeTokyo()\n",
    "\n",
    "# If you want to use the same total number of shots to prepare each calibration\n",
    "n_shots_qiskit = n_shots / (2 ** n_qubits) # One calibration circuit per bitstring\n",
    "n_shots_patch = n_shots / (2 * len(backend.configuration().coupling_map)) # 4 for each calibration, but the coupling map double counts\n",
    "#backend = FakeTokyo()"
   ]
  },
  {
   "cell_type": "markdown",
   "id": "aca75f99",
   "metadata": {},
   "source": [
    "## Qiskit\n",
    "This will take approximately forever to complete for larger devices"
   ]
  },
  {
   "cell_type": "code",
   "execution_count": 11,
   "id": "0df7dbcc",
   "metadata": {},
   "outputs": [
    {
     "ename": "KeyboardInterrupt",
     "evalue": "",
     "output_type": "error",
     "traceback": [
      "\u001b[0;31m---------------------------------------------------------------------------\u001b[0m",
      "\u001b[0;31mKeyboardInterrupt\u001b[0m                         Traceback (most recent call last)",
      "\u001b[0;32m<ipython-input-11-ae81a7065858>\u001b[0m in \u001b[0;36m<module>\u001b[0;34m\u001b[0m\n\u001b[1;32m      1\u001b[0m \u001b[0mqr\u001b[0m \u001b[0;34m=\u001b[0m \u001b[0mqiskit\u001b[0m\u001b[0;34m.\u001b[0m\u001b[0mQuantumRegister\u001b[0m\u001b[0;34m(\u001b[0m\u001b[0mn_qubits\u001b[0m\u001b[0;34m)\u001b[0m\u001b[0;34m\u001b[0m\u001b[0;34m\u001b[0m\u001b[0m\n\u001b[0;32m----> 2\u001b[0;31m \u001b[0mmeas_calibs\u001b[0m\u001b[0;34m,\u001b[0m \u001b[0mstate_labels\u001b[0m \u001b[0;34m=\u001b[0m \u001b[0mcomplete_meas_cal\u001b[0m\u001b[0;34m(\u001b[0m\u001b[0mqr\u001b[0m\u001b[0;34m=\u001b[0m\u001b[0mqr\u001b[0m\u001b[0;34m,\u001b[0m \u001b[0mcirclabel\u001b[0m\u001b[0;34m=\u001b[0m\u001b[0;34m'mcal'\u001b[0m\u001b[0;34m)\u001b[0m\u001b[0;34m\u001b[0m\u001b[0;34m\u001b[0m\u001b[0m\n\u001b[0m\u001b[1;32m      3\u001b[0m \u001b[0;31m#_qc = qiskit.transpile(meas_calibs, backend)\u001b[0m\u001b[0;34m\u001b[0m\u001b[0;34m\u001b[0m\u001b[0;34m\u001b[0m\u001b[0m\n\u001b[1;32m      4\u001b[0m \u001b[0;31m#cal_results = qiskit.execute(t_qc, backend, shots=n_shots_qiskit).result()\u001b[0m\u001b[0;34m\u001b[0m\u001b[0;34m\u001b[0m\u001b[0;34m\u001b[0m\u001b[0m\n\u001b[1;32m      5\u001b[0m \u001b[0;31m#meas_fitter = CompleteMeasFitter(cal_results, state_labels, circlabel='mcal')\u001b[0m\u001b[0;34m\u001b[0m\u001b[0;34m\u001b[0m\u001b[0;34m\u001b[0m\u001b[0m\n",
      "\u001b[0;32m~/aur/miniconda3/lib/python3.8/site-packages/qiskit/ignis/mitigation/measurement/circuits.py\u001b[0m in \u001b[0;36mcomplete_meas_cal\u001b[0;34m(qubit_list, qr, cr, circlabel)\u001b[0m\n\u001b[1;32m     89\u001b[0m     \u001b[0mstate_labels\u001b[0m \u001b[0;34m=\u001b[0m \u001b[0mcount_keys\u001b[0m\u001b[0;34m(\u001b[0m\u001b[0mnqubits\u001b[0m\u001b[0;34m)\u001b[0m\u001b[0;34m\u001b[0m\u001b[0;34m\u001b[0m\u001b[0m\n\u001b[1;32m     90\u001b[0m \u001b[0;34m\u001b[0m\u001b[0m\n\u001b[0;32m---> 91\u001b[0;31m     cal_circuits, _ = tensored_meas_cal([qubit_list],\n\u001b[0m\u001b[1;32m     92\u001b[0m                                         qr, cr, circlabel)\n\u001b[1;32m     93\u001b[0m \u001b[0;34m\u001b[0m\u001b[0m\n",
      "\u001b[0;32m~/aur/miniconda3/lib/python3.8/site-packages/qiskit/ignis/mitigation/measurement/circuits.py\u001b[0m in \u001b[0;36mtensored_meas_cal\u001b[0;34m(mit_pattern, qr, cr, circlabel)\u001b[0m\n\u001b[1;32m    204\u001b[0m \u001b[0;34m\u001b[0m\u001b[0m\n\u001b[1;32m    205\u001b[0m             \u001b[0;32mfor\u001b[0m \u001b[0mqind\u001b[0m \u001b[0;32min\u001b[0m \u001b[0mrange\u001b[0m\u001b[0;34m(\u001b[0m\u001b[0mlist_size\u001b[0m\u001b[0;34m)\u001b[0m\u001b[0;34m:\u001b[0m\u001b[0;34m\u001b[0m\u001b[0;34m\u001b[0m\u001b[0m\n\u001b[0;32m--> 206\u001b[0;31m                 qc_circuit.measure(qr[qubit_list[qind]],\n\u001b[0m\u001b[1;32m    207\u001b[0m                                    cr[nqubits-(end_index-qind)])\n\u001b[1;32m    208\u001b[0m \u001b[0;34m\u001b[0m\u001b[0m\n",
      "\u001b[0;32m~/aur/miniconda3/lib/python3.8/site-packages/qiskit/circuit/quantumcircuit.py\u001b[0m in \u001b[0;36mmeasure\u001b[0;34m(self, qubit, cbit)\u001b[0m\n\u001b[1;32m   2297\u001b[0m             \u001b[0mCircuitError\u001b[0m\u001b[0;34m:\u001b[0m \u001b[0;32mif\u001b[0m \u001b[0marguments\u001b[0m \u001b[0mhave\u001b[0m \u001b[0mbad\u001b[0m \u001b[0mformat\u001b[0m\u001b[0;34m.\u001b[0m\u001b[0;34m\u001b[0m\u001b[0;34m\u001b[0m\u001b[0m\n\u001b[1;32m   2298\u001b[0m         \"\"\"\n\u001b[0;32m-> 2299\u001b[0;31m         \u001b[0;32mreturn\u001b[0m \u001b[0mself\u001b[0m\u001b[0;34m.\u001b[0m\u001b[0mappend\u001b[0m\u001b[0;34m(\u001b[0m\u001b[0mMeasure\u001b[0m\u001b[0;34m(\u001b[0m\u001b[0;34m)\u001b[0m\u001b[0;34m,\u001b[0m \u001b[0;34m[\u001b[0m\u001b[0mqubit\u001b[0m\u001b[0;34m]\u001b[0m\u001b[0;34m,\u001b[0m \u001b[0;34m[\u001b[0m\u001b[0mcbit\u001b[0m\u001b[0;34m]\u001b[0m\u001b[0;34m)\u001b[0m\u001b[0;34m\u001b[0m\u001b[0;34m\u001b[0m\u001b[0m\n\u001b[0m\u001b[1;32m   2300\u001b[0m \u001b[0;34m\u001b[0m\u001b[0m\n\u001b[1;32m   2301\u001b[0m     \u001b[0;32mdef\u001b[0m \u001b[0mmeasure_active\u001b[0m\u001b[0;34m(\u001b[0m\u001b[0mself\u001b[0m\u001b[0;34m,\u001b[0m \u001b[0minplace\u001b[0m\u001b[0;34m:\u001b[0m \u001b[0mbool\u001b[0m \u001b[0;34m=\u001b[0m \u001b[0;32mTrue\u001b[0m\u001b[0;34m)\u001b[0m \u001b[0;34m->\u001b[0m \u001b[0mOptional\u001b[0m\u001b[0;34m[\u001b[0m\u001b[0;34m\"QuantumCircuit\"\u001b[0m\u001b[0;34m]\u001b[0m\u001b[0;34m:\u001b[0m\u001b[0;34m\u001b[0m\u001b[0;34m\u001b[0m\u001b[0m\n",
      "\u001b[0;32m~/aur/miniconda3/lib/python3.8/site-packages/qiskit/circuit/quantumcircuit.py\u001b[0m in \u001b[0;36mappend\u001b[0;34m(self, instruction, qargs, cargs)\u001b[0m\n\u001b[1;32m   1229\u001b[0m         \u001b[0;32mraise\u001b[0m \u001b[0mCircuitError\u001b[0m\u001b[0;34m(\u001b[0m\u001b[0;34mf\"Unknown classical resource specifier: '{specifier}'.\"\u001b[0m\u001b[0;34m)\u001b[0m\u001b[0;34m\u001b[0m\u001b[0;34m\u001b[0m\u001b[0m\n\u001b[1;32m   1230\u001b[0m \u001b[0;34m\u001b[0m\u001b[0m\n\u001b[0;32m-> 1231\u001b[0;31m     def append(\n\u001b[0m\u001b[1;32m   1232\u001b[0m         \u001b[0mself\u001b[0m\u001b[0;34m,\u001b[0m\u001b[0;34m\u001b[0m\u001b[0;34m\u001b[0m\u001b[0m\n\u001b[1;32m   1233\u001b[0m         \u001b[0minstruction\u001b[0m\u001b[0;34m:\u001b[0m \u001b[0mUnion\u001b[0m\u001b[0;34m[\u001b[0m\u001b[0mInstruction\u001b[0m\u001b[0;34m,\u001b[0m \u001b[0mCircuitInstruction\u001b[0m\u001b[0;34m]\u001b[0m\u001b[0;34m,\u001b[0m\u001b[0;34m\u001b[0m\u001b[0;34m\u001b[0m\u001b[0m\n",
      "\u001b[0;31mKeyboardInterrupt\u001b[0m: "
     ]
    }
   ],
   "source": [
    "qr = qiskit.QuantumRegister(n_qubits)\n",
    "meas_calibs, state_labels = complete_meas_cal(qr=qr, circlabel='mcal')\n",
    "#_qc = qiskit.transpile(meas_calibs, backend)\n",
    "#cal_results = qiskit.execute(t_qc, backend, shots=n_shots_qiskit).result()\n",
    "#meas_fitter = CompleteMeasFitter(cal_results, state_labels, circlabel='mcal')\n",
    "#meas_filter = meas_fitter.filter"
   ]
  },
  {
   "cell_type": "markdown",
   "id": "9f9518e8",
   "metadata": {},
   "source": [
    "## Patched"
   ]
  },
  {
   "cell_type": "code",
   "execution_count": 5,
   "id": "a053ddbf",
   "metadata": {},
   "outputs": [
    {
     "name": "stdout",
     "output_type": "stream",
     "text": [
      "Building Coupling Graph\n",
      "Building Edge Calibrations\n",
      "\tBuilding Calibration Circuits\n",
      "\tBuilding Edge Patches : [==================> ] 100.0% \n",
      "\tBuilding Edge Patches : [===================>] 100.0% \n",
      "\tConstructing Calibration Circuits : [=================>  ] 100.0% \n",
      "\tExecuting Calibration Circuits\n",
      "\tDe-hexing Measurement Results\n",
      "\tTracing Patched Calibration Results : [=================>  ] 100.0% \n",
      "Building Patch Calibrations\n",
      "\tMerging Patches : [==================> ] 100.0% \n",
      "Building Measure Fitter\n",
      "\tBuilding Meas Fitters from Patches : [==================> ] 100.0% \n"
     ]
    }
   ],
   "source": [
    "tpf = TensorPatchFitter(backend, n_shots=n_shots_patch)\n",
    "tpf.build(verbose=True)"
   ]
  },
  {
   "cell_type": "markdown",
   "id": "219c1db6",
   "metadata": {},
   "source": [
    "## The circuit to test"
   ]
  },
  {
   "cell_type": "code",
   "execution_count": 40,
   "id": "20c08289",
   "metadata": {},
   "outputs": [],
   "source": [
    "circ = qiskit.QuantumCircuit(n_qubits, n_qubits)\n",
    "initial_layout = list(range(n_qubits))\n",
    "\n",
    "circ.h(0)\n",
    "for i in range(1, n_qubits):\n",
    "    circ.cnot(i - 1, i)\n",
    "\n",
    "circ.measure(initial_layout, initial_layout)\n",
    "tc = qiskit.transpile(circ, backend=backend, initial_layout=initial_layout, optimization_level=0)\n",
    "results = qiskit.execute(tc, backend, shots=n_shots, initial_layout=initial_layout, optimization_level=0).result()"
   ]
  },
  {
   "cell_type": "code",
   "execution_count": 41,
   "id": "a4e57ba1",
   "metadata": {},
   "outputs": [],
   "source": [
    "bare_res = results.get_counts()\n",
    "tpf_res = tpf.apply(bare_res)\n",
    "qiskit_res = meas_filter.apply(bare_res)"
   ]
  },
  {
   "cell_type": "code",
   "execution_count": 42,
   "id": "84189c2a",
   "metadata": {},
   "outputs": [],
   "source": [
    "def dist(res, n_shots, n_qubits):\n",
    "    distance = abs(res['0' * n_qubits] - n_shots / 2) + abs(res['1' * n_qubits] - n_shots / 2)\n",
    "    distance /= n_shots\n",
    "    return distance"
   ]
  },
  {
   "cell_type": "code",
   "execution_count": 43,
   "id": "82ebbc0d",
   "metadata": {},
   "outputs": [
    {
     "name": "stdout",
     "output_type": "stream",
     "text": [
      "0.18609375\n",
      "0.07376690368648924\n",
      "0.0325238269401379\n"
     ]
    }
   ],
   "source": [
    "print(dist(bare_res, n_shots, n_qubits))\n",
    "print(dist(tpf_res, n_shots, n_qubits))\n",
    "print(dist(qiskit_res, n_shots, n_qubits))"
   ]
  },
  {
   "cell_type": "code",
   "execution_count": 44,
   "id": "6e69ac22",
   "metadata": {},
   "outputs": [
    {
     "name": "stdout",
     "output_type": "stream",
     "text": [
      "12296 13749\n",
      "15287.02954022438 15672.207997691208\n",
      "15285.328426814858 14354.130655217486\n"
     ]
    }
   ],
   "source": [
    "print(bare_res['1' * n_qubits], bare_res['0' * n_qubits])\n",
    "print(qiskit_res['1' * n_qubits], qiskit_res['0' * n_qubits])\n",
    "print(tpf_res['1' * n_qubits], tpf_res['0' * n_qubits])"
   ]
  },
  {
   "cell_type": "code",
   "execution_count": null,
   "id": "82d5c2a6",
   "metadata": {},
   "outputs": [],
   "source": []
  }
 ],
 "metadata": {
  "kernelspec": {
   "display_name": "Python 3",
   "language": "python",
   "name": "python3"
  },
  "language_info": {
   "codemirror_mode": {
    "name": "ipython",
    "version": 3
   },
   "file_extension": ".py",
   "mimetype": "text/x-python",
   "name": "python",
   "nbconvert_exporter": "python",
   "pygments_lexer": "ipython3",
   "version": "3.8.3"
  }
 },
 "nbformat": 4,
 "nbformat_minor": 5
}
