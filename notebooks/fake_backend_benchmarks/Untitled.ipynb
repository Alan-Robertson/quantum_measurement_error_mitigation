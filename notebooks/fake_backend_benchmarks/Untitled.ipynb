{
 "cells": [
  {
   "cell_type": "code",
   "execution_count": 1,
   "id": "f0e81759",
   "metadata": {},
   "outputs": [],
   "source": [
    "import qiskit\n",
    "\n",
    "from PatchedMeasCal.tensor_patch_cal import TensorPatchFitter\n",
    "from PatchedMeasCal.fake_backends import Grid\n",
    "from PatchedMeasCal.inv_measure_methods import aim, sim\n",
    "from PatchedMeasCal import jigsaw\n",
    "\n",
    "from PatchedMeasCal import state_prep_circuits\n",
    "from PatchedMeasCal.bv import bv_circuit_cmap\n",
    "from PatchedMeasCal.fake_measurement_distributions import renormalise_measurement_results\n",
    "from PatchedMeasCal.utils import Progressbar\n",
    "from PatchedMeasCal.qiskit_meas_fitters import qiskit_full, qiskit_linear\n",
    "\n",
    "from PatchedMeasCal import non_standard_coupling_maps\n",
    "\n",
    "from qiskit.ignis.mitigation.measurement import complete_meas_cal, CompleteMeasFitter\n",
    "from qiskit.ignis.mitigation.measurement import tensored_meas_cal, TensoredMeasFitter\n",
    "\n",
    "from PatchedMeasCal.edge_bfs import CouplingMapGraph\n",
    "\n",
    "from functools import partial\n",
    "\n",
    "import qiskit.tools.jupyter\n",
    "\n",
    "import random"
   ]
  },
  {
   "cell_type": "code",
   "execution_count": 2,
   "id": "872af6be",
   "metadata": {},
   "outputs": [],
   "source": [
    "grid = Grid(2, 2)\n",
    "circuit = bv_circuit_cmap('110', 4, grid)"
   ]
  },
  {
   "cell_type": "code",
   "execution_count": 3,
   "id": "8798c55b",
   "metadata": {},
   "outputs": [
    {
     "data": {
      "text/html": [
       "<pre style=\"word-wrap: normal;white-space: pre;background: #fff0;line-height: 1.1;font-family: &quot;Courier New&quot;,Courier,monospace\">     ┌───┐      ░      ┌───┐ ░ ┌───┐\n",
       "q_0: ┤ H ├──────░──────┤ X ├─░─┤ H ├\n",
       "     ├───┤      ░ ┌───┐└─┬─┘ ░ ├───┤\n",
       "q_1: ┤ H ├──────░─┤ X ├──■───░─┤ H ├\n",
       "     ├───┤      ░ └─┬─┘      ░ ├───┤\n",
       "q_2: ┤ H ├──────░───┼────────░─┤ H ├\n",
       "     ├───┤┌───┐ ░   │        ░ ├───┤\n",
       "q_3: ┤ H ├┤ Z ├─░───■────────░─┤ H ├\n",
       "     └───┘└───┘ ░            ░ └───┘\n",
       "c: 4/═══════════════════════════════\n",
       "                                    </pre>"
      ],
      "text/plain": [
       "     ┌───┐      ░      ┌───┐ ░ ┌───┐\n",
       "q_0: ┤ H ├──────░──────┤ X ├─░─┤ H ├\n",
       "     ├───┤      ░ ┌───┐└─┬─┘ ░ ├───┤\n",
       "q_1: ┤ H ├──────░─┤ X ├──■───░─┤ H ├\n",
       "     ├───┤      ░ └─┬─┘      ░ ├───┤\n",
       "q_2: ┤ H ├──────░───┼────────░─┤ H ├\n",
       "     ├───┤┌───┐ ░   │        ░ ├───┤\n",
       "q_3: ┤ H ├┤ Z ├─░───■────────░─┤ H ├\n",
       "     └───┘└───┘ ░            ░ └───┘\n",
       "c: 4/═══════════════════════════════\n",
       "                                    "
      ]
     },
     "execution_count": 3,
     "metadata": {},
     "output_type": "execute_result"
    }
   ],
   "source": [
    "circuit.draw()"
   ]
  },
  {
   "cell_type": "raw",
   "id": "65550800",
   "metadata": {},
   "source": [
    "circuit = bv_circuit('110', 4)"
   ]
  },
  {
   "cell_type": "code",
   "execution_count": 4,
   "id": "1d61ee51",
   "metadata": {},
   "outputs": [
    {
     "data": {
      "text/html": [
       "<pre style=\"word-wrap: normal;white-space: pre;background: #fff0;line-height: 1.1;font-family: &quot;Courier New&quot;,Courier,monospace\">     ┌───┐      ░            ░ ┌───┐┌─┐         \n",
       "q_0: ┤ H ├──────░───■────────░─┤ H ├┤M├─────────\n",
       "     ├───┤      ░   │        ░ ├───┤└╥┘┌─┐      \n",
       "q_1: ┤ H ├──────░───┼────■───░─┤ H ├─╫─┤M├──────\n",
       "     ├───┤      ░   │    │   ░ ├───┤ ║ └╥┘┌─┐   \n",
       "q_2: ┤ H ├──────░───┼────┼───░─┤ H ├─╫──╫─┤M├───\n",
       "     ├───┤┌───┐ ░ ┌─┴─┐┌─┴─┐ ░ ├───┤ ║  ║ └╥┘┌─┐\n",
       "q_3: ┤ H ├┤ Z ├─░─┤ X ├┤ X ├─░─┤ H ├─╫──╫──╫─┤M├\n",
       "     └───┘└───┘ ░ └───┘└───┘ ░ └───┘ ║  ║  ║ └╥┘\n",
       "c: 4/════════════════════════════════╩══╩══╩══╩═\n",
       "                                     0  1  2  3 </pre>"
      ],
      "text/plain": [
       "     ┌───┐      ░            ░ ┌───┐┌─┐         \n",
       "q_0: ┤ H ├──────░───■────────░─┤ H ├┤M├─────────\n",
       "     ├───┤      ░   │        ░ ├───┤└╥┘┌─┐      \n",
       "q_1: ┤ H ├──────░───┼────■───░─┤ H ├─╫─┤M├──────\n",
       "     ├───┤      ░   │    │   ░ ├───┤ ║ └╥┘┌─┐   \n",
       "q_2: ┤ H ├──────░───┼────┼───░─┤ H ├─╫──╫─┤M├───\n",
       "     ├───┤┌───┐ ░ ┌─┴─┐┌─┴─┐ ░ ├───┤ ║  ║ └╥┘┌─┐\n",
       "q_3: ┤ H ├┤ Z ├─░─┤ X ├┤ X ├─░─┤ H ├─╫──╫──╫─┤M├\n",
       "     └───┘└───┘ ░ └───┘└───┘ ░ └───┘ ║  ║  ║ └╥┘\n",
       "c: 4/════════════════════════════════╩══╩══╩══╩═\n",
       "                                     0  1  2  3 "
      ]
     },
     "execution_count": 4,
     "metadata": {},
     "output_type": "execute_result"
    }
   ],
   "source": [
    "circuit.draw()"
   ]
  },
  {
   "cell_type": "code",
   "execution_count": 11,
   "id": "e5fa4d63",
   "metadata": {},
   "outputs": [],
   "source": [
    "grid = Grid(2, 2)"
   ]
  },
  {
   "cell_type": "code",
   "execution_count": 148,
   "id": "52cb4577",
   "metadata": {},
   "outputs": [],
   "source": [
    "def bv_c(bv_str, n_qubits, backend):\n",
    "    circ = qiskit.QuantumCircuit(n_qubits, n_qubits)\n",
    "    \n",
    "    for i in range(n_qubits):\n",
    "        circ.h(i)\n",
    "    circ.z(n_qubits - 1)\n",
    "    circ.barrier()\n",
    "    \n",
    "    coupling_map = grid.configuration().coupling_map\n",
    "    \n",
    "    target = [int(i) for i in bv_string] + [1]\n",
    "    current = [0] * (n_qubits - 1) + [1]\n",
    "    \n",
    "    cnot_chain = cnot_network(current, target, coupling_map, n_qubits)\n",
    "    \n",
    "    for i in cnot_chain:\n",
    "        circ.cnot(*i)   \n",
    "    \n",
    "    circ.barrier()\n",
    "    \n",
    "    for i in range(n_qubits):\n",
    "        circ.h(i)\n",
    "    \n",
    "    return circ"
   ]
  },
  {
   "cell_type": "code",
   "execution_count": 150,
   "id": "7f1773b9",
   "metadata": {},
   "outputs": [
    {
     "name": "stdout",
     "output_type": "stream",
     "text": [
      "[0, 0, 0, 1]\n",
      "0 3\n",
      "2 3\n",
      "[0, 0, 1, 1]\n",
      "0 2\n"
     ]
    },
    {
     "data": {
      "text/html": [
       "<pre style=\"word-wrap: normal;white-space: pre;background: #fff0;line-height: 1.1;font-family: &quot;Courier New&quot;,Courier,monospace\">     ┌───┐      ░      ┌───┐ ░ ┌───┐\n",
       "q_0: ┤ H ├──────░──────┤ X ├─░─┤ H ├\n",
       "     ├───┤      ░      └─┬─┘ ░ ├───┤\n",
       "q_1: ┤ H ├──────░────────┼───░─┤ H ├\n",
       "     ├───┤      ░ ┌───┐  │   ░ ├───┤\n",
       "q_2: ┤ H ├──────░─┤ X ├──■───░─┤ H ├\n",
       "     ├───┤┌───┐ ░ └─┬─┘      ░ ├───┤\n",
       "q_3: ┤ H ├┤ Z ├─░───■────────░─┤ H ├\n",
       "     └───┘└───┘ ░            ░ └───┘\n",
       "c: 4/═══════════════════════════════\n",
       "                                    </pre>"
      ],
      "text/plain": [
       "     ┌───┐      ░      ┌───┐ ░ ┌───┐\n",
       "q_0: ┤ H ├──────░──────┤ X ├─░─┤ H ├\n",
       "     ├───┤      ░      └─┬─┘ ░ ├───┤\n",
       "q_1: ┤ H ├──────░────────┼───░─┤ H ├\n",
       "     ├───┤      ░ ┌───┐  │   ░ ├───┤\n",
       "q_2: ┤ H ├──────░─┤ X ├──■───░─┤ H ├\n",
       "     ├───┤┌───┐ ░ └─┬─┘      ░ ├───┤\n",
       "q_3: ┤ H ├┤ Z ├─░───■────────░─┤ H ├\n",
       "     └───┘└───┘ ░            ░ └───┘\n",
       "c: 4/═══════════════════════════════\n",
       "                                    "
      ]
     },
     "execution_count": 150,
     "metadata": {},
     "output_type": "execute_result"
    }
   ],
   "source": [
    "bv_c('101', 4, grid).draw()"
   ]
  },
  {
   "cell_type": "code",
   "execution_count": 147,
   "id": "c2052584",
   "metadata": {},
   "outputs": [],
   "source": [
    "def cnot_network(initial_state, target_state, coupling_map, n_qubits):\n",
    "    network = []\n",
    "\n",
    "    initial_state = copy.deepcopy(initial_state)\n",
    "\n",
    "    distance_map = cmap_djikstra(coupling_map, n_qubits)\n",
    "\n",
    "    ct = 0\n",
    "    while initial_state != target_state and ct < 5:\n",
    "        ct += 1\n",
    "        print(initial_state)\n",
    "        mask = [i ^ j for i, j in zip(initial_state, target_state)]\n",
    "\n",
    "        # Get longest path distance remaining in the stack\n",
    "        shortest_path = [float('inf'), None]\n",
    "        for i in range(n_qubits):\n",
    "            if mask[i] == 1:\n",
    "                for j in range(n_qubits):\n",
    "                    if initial_state[j] == 1 and i != j:\n",
    "                        #shortest_path = cmap_shortest_path(j, i, distance_map, coupling_map)\n",
    "                        if shortest_path[0] > distance_map[i][j]:\n",
    "                            shortest_path = [distance_map[i][j], [j, i]]\n",
    "                            print(i, j)\n",
    "\n",
    "\n",
    "        path = cmap_shortest_path(*shortest_path[1], distance_map, coupling_map)\n",
    "        for i, j in zip(path[:-1], path[1:]):\n",
    "            network.append([i, j])\n",
    "            initial_state[j] ^= initial_state[i]\n",
    "\n",
    "    return network\n",
    "\n",
    "    \n",
    "    "
   ]
  },
  {
   "cell_type": "code",
   "execution_count": 138,
   "id": "cd1d99bf",
   "metadata": {},
   "outputs": [
    {
     "data": {
      "text/plain": [
       "[1, 1, 1, 0]"
      ]
     },
     "execution_count": 138,
     "metadata": {},
     "output_type": "execute_result"
    }
   ],
   "source": [
    "initial_state"
   ]
  },
  {
   "cell_type": "code",
   "execution_count": 139,
   "id": "f79f8a14",
   "metadata": {},
   "outputs": [
    {
     "data": {
      "text/plain": [
       "[[0, 1], [1, 0], [0, 2], [2, 0], [2, 3], [3, 2], [1, 3], [3, 1]]"
      ]
     },
     "execution_count": 139,
     "metadata": {},
     "output_type": "execute_result"
    }
   ],
   "source": [
    "coupling_map"
   ]
  },
  {
   "cell_type": "code",
   "execution_count": 140,
   "id": "851ff692",
   "metadata": {},
   "outputs": [
    {
     "data": {
      "text/plain": [
       "[[3, 1], [1, 0], [0, 2], [1, 3]]"
      ]
     },
     "execution_count": 140,
     "metadata": {},
     "output_type": "execute_result"
    }
   ],
   "source": [
    "network"
   ]
  },
  {
   "cell_type": "code",
   "execution_count": 127,
   "id": "48631a97",
   "metadata": {},
   "outputs": [
    {
     "data": {
      "text/plain": [
       "[1, 1, 1, 0]"
      ]
     },
     "execution_count": 127,
     "metadata": {},
     "output_type": "execute_result"
    }
   ],
   "source": [
    "initial_state"
   ]
  },
  {
   "cell_type": "code",
   "execution_count": 94,
   "id": "35134fb0",
   "metadata": {},
   "outputs": [
    {
     "data": {
      "text/plain": [
       "True"
      ]
     },
     "execution_count": 94,
     "metadata": {},
     "output_type": "execute_result"
    }
   ],
   "source": [
    "initial_state == target_state"
   ]
  },
  {
   "cell_type": "code",
   "execution_count": 91,
   "id": "2c26787c",
   "metadata": {},
   "outputs": [
    {
     "data": {
      "text/plain": [
       "[[3, 2], [2, 0]]"
      ]
     },
     "execution_count": 91,
     "metadata": {},
     "output_type": "execute_result"
    }
   ],
   "source": [
    "network"
   ]
  },
  {
   "cell_type": "code",
   "execution_count": 84,
   "id": "71aec0b4",
   "metadata": {},
   "outputs": [
    {
     "data": {
      "text/plain": [
       "[1, 0, 1, 0]"
      ]
     },
     "execution_count": 84,
     "metadata": {},
     "output_type": "execute_result"
    }
   ],
   "source": [
    "mask"
   ]
  },
  {
   "cell_type": "code",
   "execution_count": 89,
   "id": "b9e72a99",
   "metadata": {},
   "outputs": [
    {
     "data": {
      "text/plain": [
       "[3, 2, 0]"
      ]
     },
     "execution_count": 89,
     "metadata": {},
     "output_type": "execute_result"
    }
   ],
   "source": [
    "path"
   ]
  },
  {
   "cell_type": "code",
   "execution_count": 86,
   "id": "9f2dcef4",
   "metadata": {},
   "outputs": [
    {
     "data": {
      "text/plain": [
       "[2, [0, 3]]"
      ]
     },
     "execution_count": 86,
     "metadata": {},
     "output_type": "execute_result"
    }
   ],
   "source": [
    "#shortest_paths.sort(reverse=True)\n",
    "longest_path"
   ]
  },
  {
   "cell_type": "code",
   "execution_count": 26,
   "id": "8a15957f",
   "metadata": {},
   "outputs": [
    {
     "data": {
      "text/plain": [
       "[[0, 1], [0, 2], [2, 3], [1, 3]]"
      ]
     },
     "execution_count": 26,
     "metadata": {},
     "output_type": "execute_result"
    }
   ],
   "source": [
    "cmg"
   ]
  },
  {
   "cell_type": "code",
   "execution_count": 28,
   "id": "7412cc80",
   "metadata": {},
   "outputs": [
    {
     "name": "stdout",
     "output_type": "stream",
     "text": [
      "[[0, 1], [1, 0], [0, 2], [2, 0], [2, 3], [3, 2], [1, 3], [3, 1]]\n",
      "[[0, 1], [0, 2], [2, 3], [1, 3]]\n"
     ]
    }
   ],
   "source": [
    "coupling_map_uniq = []\n",
    "for i in coupling_map:\n",
    "    if i[::-1] not in coupling_map_uniq:\n",
    "        coupling_map_uniq.append(i)"
   ]
  },
  {
   "cell_type": "code",
   "execution_count": 53,
   "id": "c30648ee",
   "metadata": {},
   "outputs": [],
   "source": [
    "import copy\n",
    "def cmap_djikstra(cmap, n_qubits, root = 0):\n",
    "        \n",
    "    distances = [{i:0} for i in range(n_qubits)]\n",
    "    \n",
    "    cmap = copy.deepcopy(cmap)\n",
    "    traversed = [root]\n",
    "    edges_used = []\n",
    "    nodes_found = []\n",
    "    \n",
    "    for c in cmap:\n",
    "        distances[c[0]][c[1]] = 1\n",
    "    \n",
    "    while len(cmap) > 0:\n",
    "        for t in traversed:\n",
    "            for c in cmap:\n",
    "                if c[0] == t:\n",
    "                    edges_used.append(c)\n",
    "                    nodes_found.append(c[1])\n",
    "\n",
    "                    # Join\n",
    "                    distances_t = distances[t]\n",
    "                    distances_e = distances[c[1]]\n",
    "                    for d_t in distances_t:\n",
    "                        if d_t not in distances_e:\n",
    "                            distances_e[d_t] = distances_t[d_t] + 1\n",
    "                        else:\n",
    "                            distances_e[d_t] = min(distances_e[d_t], distances_t[d_t] + 1)\n",
    "                            distances_t[d_t] = min(distances_e[d_t] + 1, distances_t[d_t])\n",
    "        traversed = nodes_found\n",
    "        nodes_found = []\n",
    "        \n",
    "        for e in edges_used:\n",
    "            cmap.remove(e)\n",
    "            cmap.remove(e[::-1])\n",
    "        edges_used = []\n",
    "                \n",
    "            \n",
    "    # Symmetric Cleanup\n",
    "    for i, d in enumerate(distances):\n",
    "        for j in range(n_qubits):\n",
    "            if j not in d:\n",
    "                d[j] = distances[j][i]\n",
    "    return distances\n",
    "        "
   ]
  },
  {
   "cell_type": "code",
   "execution_count": 128,
   "id": "698aa846",
   "metadata": {},
   "outputs": [],
   "source": [
    "def djikstra_tree(coupling_map, n_qubits, root = 0):\n",
    "    traversed = []\n",
    "    front_nodes = [root]\n",
    "    \n",
    "    tree_cmap = []\n",
    "    coupling_map = copy.deepcopy(coupling_map)\n",
    " \n",
    "    \n",
    "    while len(traversed) < n_qubits:\n",
    "        next_front = []\n",
    "        for t in front_nodes:\n",
    "            for c in coupling_map:\n",
    "                if c[0] == t:\n",
    "                    if c[1] not in traversed and c[1] not in front_nodes and c[1] not in next_front:\n",
    "                        next_front.append(c[1])\n",
    "                        tree_cmap.append(c)\n",
    "                        tree_cmap.append(c[::-1])\n",
    "                        coupling_map.remove(c)\n",
    "                        coupling_map.remove(c[::-1])\n",
    "                   \n",
    "        traversed += front_nodes\n",
    "        front_nodes = next_front\n",
    "\n",
    "    return tree_cmap\n",
    "    \n",
    "    "
   ]
  },
  {
   "cell_type": "code",
   "execution_count": 121,
   "id": "376bd77a",
   "metadata": {},
   "outputs": [
    {
     "name": "stdout",
     "output_type": "stream",
     "text": [
      "0 1 [] [0] []\n",
      "1 3 [0] [1] []\n",
      "3 2 [0, 1] [3] []\n",
      "2 0 [0, 1, 3] [2] []\n"
     ]
    },
    {
     "data": {
      "text/plain": [
       "[[0, 1], [1, 0], [1, 3], [3, 1], [3, 2], [2, 3]]"
      ]
     },
     "execution_count": 121,
     "metadata": {},
     "output_type": "execute_result"
    }
   ],
   "source": [
    "djikstra_tree(coupling_map, n_qubits)"
   ]
  },
  {
   "cell_type": "code",
   "execution_count": 61,
   "id": "02bb63c1",
   "metadata": {},
   "outputs": [],
   "source": [
    "# This would be much faster with a proper graph structure\n",
    "def cmap_shortest_path(start, end, distance_map, cmap):\n",
    "    distance = distance_map[start][end]\n",
    "    path = [start]\n",
    "    curr_node = start\n",
    "    while curr_node != end:\n",
    "        next_node = None\n",
    "        for i in distance_map[curr_node]:\n",
    "            if [curr_node, i] in cmap or [i, curr_node] in cmap:\n",
    "                if distance_map[i][end] == distance_map[curr_node][end] - 1:\n",
    "                    next_node = i\n",
    "                    break  \n",
    "        path.append(next_node)\n",
    "        curr_node = next_node\n",
    "    return path"
   ]
  },
  {
   "cell_type": "code",
   "execution_count": 62,
   "id": "40e15b63",
   "metadata": {},
   "outputs": [
    {
     "data": {
      "text/plain": [
       "[0, 1, 3]"
      ]
     },
     "execution_count": 62,
     "metadata": {},
     "output_type": "execute_result"
    }
   ],
   "source": [
    "cmap_shortest_path(0, 3, grid_map, coupling_map)"
   ]
  },
  {
   "cell_type": "code",
   "execution_count": 56,
   "id": "40cb1b4d",
   "metadata": {},
   "outputs": [],
   "source": [
    "grid_map = cmap_djikstra(coupling_map, 4)"
   ]
  },
  {
   "cell_type": "code",
   "execution_count": 48,
   "id": "8a04f8f8",
   "metadata": {},
   "outputs": [
    {
     "name": "stdout",
     "output_type": "stream",
     "text": [
      "> \u001b[0;32m/tmp/ipykernel_179769/2413471292.py\u001b[0m(42)\u001b[0;36mcmap_djikstra\u001b[0;34m()\u001b[0m\n",
      "\u001b[0;32m     40 \u001b[0;31m    \u001b[0;32mfor\u001b[0m \u001b[0md\u001b[0m \u001b[0;32min\u001b[0m \u001b[0mdistances\u001b[0m\u001b[0;34m:\u001b[0m\u001b[0;34m\u001b[0m\u001b[0;34m\u001b[0m\u001b[0m\n",
      "\u001b[0m\u001b[0;32m     41 \u001b[0;31m        \u001b[0;32mfor\u001b[0m \u001b[0me\u001b[0m \u001b[0;32min\u001b[0m \u001b[0mdistances\u001b[0m\u001b[0;34m:\u001b[0m\u001b[0;34m\u001b[0m\u001b[0;34m\u001b[0m\u001b[0m\n",
      "\u001b[0m\u001b[0;32m---> 42 \u001b[0;31m            \u001b[0;32mif\u001b[0m \u001b[0md\u001b[0m \u001b[0;32mnot\u001b[0m \u001b[0;32min\u001b[0m \u001b[0mdistances\u001b[0m\u001b[0;34m[\u001b[0m\u001b[0me\u001b[0m\u001b[0;34m]\u001b[0m\u001b[0;34m:\u001b[0m\u001b[0;34m\u001b[0m\u001b[0;34m\u001b[0m\u001b[0m\n",
      "\u001b[0m\u001b[0;32m     43 \u001b[0;31m                \u001b[0mdistances\u001b[0m\u001b[0;34m[\u001b[0m\u001b[0me\u001b[0m\u001b[0;34m]\u001b[0m\u001b[0;34m[\u001b[0m\u001b[0md\u001b[0m\u001b[0;34m]\u001b[0m \u001b[0;34m=\u001b[0m \u001b[0md\u001b[0m\u001b[0;34m\u001b[0m\u001b[0;34m\u001b[0m\u001b[0m\n",
      "\u001b[0m\u001b[0;32m     44 \u001b[0;31m    \u001b[0;32mreturn\u001b[0m \u001b[0mdistances\u001b[0m\u001b[0;34m\u001b[0m\u001b[0;34m\u001b[0m\u001b[0m\n",
      "\u001b[0m\n",
      "ipdb> e\n",
      "{0: 0, 1: 1, 2: 1}\n",
      "ipdb> d\n",
      "*** Newest frame\n",
      "ipdb> distances\n",
      "[{0: 0, 1: 1, 2: 1}, {1: 0, 0: 1, 3: 1, 2: 2}, {2: 0, 0: 1, 3: 1, 1: 2}, {3: 0, 2: 1, 1: 1, 0: 2}]\n",
      "ipdb> q\n"
     ]
    }
   ],
   "source": [
    "%debug"
   ]
  },
  {
   "cell_type": "code",
   "execution_count": 19,
   "id": "e6f345ad",
   "metadata": {},
   "outputs": [
    {
     "data": {
      "text/plain": [
       "['__class__',\n",
       " '__contains__',\n",
       " '__delattr__',\n",
       " '__dict__',\n",
       " '__dir__',\n",
       " '__doc__',\n",
       " '__eq__',\n",
       " '__format__',\n",
       " '__ge__',\n",
       " '__getattr__',\n",
       " '__getattribute__',\n",
       " '__gt__',\n",
       " '__hash__',\n",
       " '__init__',\n",
       " '__init_subclass__',\n",
       " '__le__',\n",
       " '__lt__',\n",
       " '__module__',\n",
       " '__ne__',\n",
       " '__new__',\n",
       " '__reduce__',\n",
       " '__reduce_ex__',\n",
       " '__repr__',\n",
       " '__setattr__',\n",
       " '__sizeof__',\n",
       " '__str__',\n",
       " '__subclasshook__',\n",
       " '__weakref__',\n",
       " '_data',\n",
       " 'backend_name',\n",
       " 'backend_version',\n",
       " 'basis_gates',\n",
       " 'conditional',\n",
       " 'coupling_map',\n",
       " 'dynamic_reprate_enabled',\n",
       " 'from_dict',\n",
       " 'gates',\n",
       " 'local',\n",
       " 'max_experiments',\n",
       " 'max_shots',\n",
       " 'memory',\n",
       " 'n_qubits',\n",
       " 'num_qubits',\n",
       " 'open_pulse',\n",
       " 'simulator',\n",
       " 'supported_instructions',\n",
       " 'to_dict']"
      ]
     },
     "execution_count": 19,
     "metadata": {},
     "output_type": "execute_result"
    }
   ],
   "source": [
    "dir(grid.configuration())"
   ]
  },
  {
   "cell_type": "code",
   "execution_count": 21,
   "id": "a045cfcc",
   "metadata": {},
   "outputs": [],
   "source": []
  },
  {
   "cell_type": "code",
   "execution_count": 22,
   "id": "7cb90b11",
   "metadata": {},
   "outputs": [
    {
     "data": {
      "text/plain": [
       "[[0, 1], [1, 0], [0, 2], [2, 0], [2, 3], [3, 2], [1, 3], [3, 1]]"
      ]
     },
     "execution_count": 22,
     "metadata": {},
     "output_type": "execute_result"
    }
   ],
   "source": [
    "coupling_map"
   ]
  },
  {
   "cell_type": "code",
   "execution_count": null,
   "id": "071bcd11",
   "metadata": {},
   "outputs": [],
   "source": [
    "\n",
    "    \n",
    "    "
   ]
  }
 ],
 "metadata": {
  "kernelspec": {
   "display_name": "Python 3",
   "language": "python",
   "name": "python3"
  },
  "language_info": {
   "codemirror_mode": {
    "name": "ipython",
    "version": 3
   },
   "file_extension": ".py",
   "mimetype": "text/x-python",
   "name": "python",
   "nbconvert_exporter": "python",
   "pygments_lexer": "ipython3",
   "version": "3.9.7"
  }
 },
 "nbformat": 4,
 "nbformat_minor": 5
}
