{
 "cells": [
  {
   "cell_type": "code",
   "execution_count": 1,
   "id": "8f200998",
   "metadata": {},
   "outputs": [
    {
     "data": {
      "application/vnd.jupyter.widget-view+json": {
       "model_id": "b5bda8276a1f4f5cbdba238b587a5c1c",
       "version_major": 2,
       "version_minor": 0
      },
      "text/plain": [
       "Accordion(children=(VBox(layout=Layout(max_width='710px', min_width='710px')),), layout=Layout(max_height='500…"
      ]
     },
     "metadata": {},
     "output_type": "display_data"
    },
    {
     "data": {
      "application/javascript": [
       "\n",
       "        const isLab = window['Jupyter'] === undefined;\n",
       "        const notebook = document.querySelector( isLab ? 'div.jp-Notebook' : '#site');\n",
       "        const jobWidget = document.querySelector('div.job_widget');\n",
       "        notebook.prepend(jobWidget);\n",
       "        jobWidget.style.zIndex = '999';\n",
       "        jobWidget.style.position = isLab ? 'sticky' : 'fixed';\n",
       "        jobWidget.style.boxShadow = '5px 5px 5px -3px black';\n",
       "        jobWidget.style.opacity = '0.95';\n",
       "        if (isLab) {\n",
       "            jobWidget.style.top = '0';\n",
       "            jobWidget.style.left = '0';\n",
       "        }\n",
       "        "
      ],
      "text/plain": [
       "<IPython.core.display.Javascript object>"
      ]
     },
     "metadata": {},
     "output_type": "display_data"
    }
   ],
   "source": [
    "import qiskit\n",
    "import numpy as np\n",
    "\n",
    "from PatchedMeasCal.tensor_patch_cal import TensorPatchFitter\n",
    "from PatchedMeasCal.inv_measure_methods import aim, sim\n",
    "from PatchedMeasCal.jigsaw import jigsaw\n",
    "from PatchedMeasCal.qiskit_meas_fitters import qiskit_full, qiskit_linear\n",
    "\n",
    "\n",
    "from PatchedMeasCal import state_prep_circuits\n",
    "from PatchedMeasCal.fake_measurement_distributions import renormalise_measurement_results\n",
    "from PatchedMeasCal.utils import Progressbar\n",
    "\n",
    "from PatchedMeasCal.fake_backends import Grid, Hexagonal16, FullyConnected\n",
    "\n",
    "from PatchedMeasCal.state_prep_circuits import GHZ_prep, GHZ_state_dist\n",
    "\n",
    "\n",
    "from qiskit.ignis.mitigation.measurement import complete_meas_cal, CompleteMeasFitter\n",
    "from qiskit.ignis.mitigation.measurement import tensored_meas_cal, TensoredMeasFitter\n",
    "\n",
    "from functools import partial\n",
    "import mthree\n",
    "import qiskit.tools.jupyter\n",
    "\n",
    "qiskit.IBMQ.load_account()\n",
    "provider = qiskit.IBMQ.get_provider()\n",
    "\n",
    "%qiskit_job_watcher"
   ]
  },
  {
   "cell_type": "markdown",
   "id": "8006eba1",
   "metadata": {},
   "source": [
    "## Setup\n",
    "The idea here is that each approachs gets a maximum of 32000 measurement shots to spend\n",
    "- Backend style methods will spend 50% of that on the build, 50% of that on the run\n",
    "- Circuit style methods will spend 50% on their full run, and the other 50% on other circuits that need to be exectued\n",
    "- AIM will divide theirs up evenly"
   ]
  },
  {
   "cell_type": "code",
   "execution_count": 2,
   "id": "6d0b1737",
   "metadata": {},
   "outputs": [],
   "source": [
    "backend = provider.get_backend('ibmq_manila')\n",
    "\n",
    "n_qubits = len(backend.properties().qubits)\n",
    "n_meas_shots = 16000\n",
    "n_build_shots = 16000\n",
    "n_shots_cmc = n_build_shots // (2 * len(backend.configuration().coupling_map))\n",
    "\n",
    "\n",
    "n_circuit_method_shots = n_meas_shots + n_build_shots\n",
    "\n",
    "circuit = GHZ_prep(backend)\n",
    "\n",
    "err_cmap = [[1, 3], [1, 4], [1, 2], [3, 4], [0, 1]]"
   ]
  },
  {
   "cell_type": "markdown",
   "id": "6c1945bf",
   "metadata": {},
   "source": [
    "## Qiskit Full Build"
   ]
  },
  {
   "cell_type": "code",
   "execution_count": null,
   "id": "95f1933d",
   "metadata": {},
   "outputs": [],
   "source": [
    "n_shots_qiskit_full = n_build_shots // (2 ** n_qubits) \n",
    "\n",
    "full_filter = qiskit_full(backend, n_qubits, n_shots_qiskit_full)\n",
    "\n",
    "# n Circuits to execute\n",
    "n_shots_qiskit_partial = n_build_shots // (n_qubits)\n",
    "\n",
    "linear_filter = qiskit_full(backend, n_qubits, n_shots_qiskit_partial)\n"
   ]
  },
  {
   "cell_type": "markdown",
   "id": "76751ade",
   "metadata": {},
   "source": [
    "## Run with repetitions\n",
    "If everything above is working, let's crank it out a few times"
   ]
  },
  {
   "cell_type": "code",
   "execution_count": null,
   "id": "a6688fe0",
   "metadata": {},
   "outputs": [],
   "source": [
    "n_reps = 10\n",
    "results = {\n",
    "    'bare':[],\n",
    "    'full':[],\n",
    "    'linear':[],\n",
    "    'aim':[],\n",
    "    'sim':[],\n",
    "    'jigsaw':[],\n",
    "    'cmc':[],\n",
    "    'cmc_err':[]\n",
    "}\n",
    "\n",
    "for _ in range(n_reps):\n",
    "\n",
    "    bare_result_job = qiskit.execute(circuit, \n",
    "                         backend, \n",
    "                         shots=n_meas_shots, \n",
    "                         optimization_level=0,\n",
    "                         initial_layout=list(range(n_qubits))\n",
    "                        )\n",
    "    \n",
    "    tpf_err = TensorPatchFitter(backend, n_shots=n_shots_cmc, coupling_map=err_cmap)\n",
    "    tpf_err.build(verbose=True)\n",
    "    \n",
    "    tpf = TensorPatchFitter(backend, n_shots=n_shots_cmc)\n",
    "    tpf.build(verbose=True)\n",
    "    \n",
    "    bare_result = bare_result_job.result().get_counts()\n",
    "    \n",
    "    results['bare'].append(\n",
    "        GHZ_state_dist(bare_result)\n",
    "    )\n",
    "    results['full'].append(\n",
    "        GHZ_state_dist(full_filter.apply(bare_result))\n",
    "    )\n",
    "    results['linear'].append(\n",
    "            GHZ_state_dist(linear_filter.apply(bare_result))\n",
    "    )\n",
    "    results['cmc'].append(\n",
    "            GHZ_state_dist(tpf.apply(bare_result))\n",
    "    )\n",
    "    results['cmc_err'].append(\n",
    "            GHZ_state_dist(tpf_err.apply(bare_result))\n",
    "    )\n",
    "    results['aim'].append(GHZ_state_dist(aim(circuit, backend, n_qubits, n_shots=n_circuit_method_shots, equal_shot_distribution=True)))\n",
    "    results['sim'].append(GHZ_state_dist(sim(circuit, backend, n_qubits, n_shots=n_circuit_method_shots, equal_shot_distribution=True)))\n",
    "    results['jigsaw'].append(GHZ_state_dist(jigsaw(circuit, backend, n_circuit_method_shots, equal_shot_distribution=True)))\n",
    "\n"
   ]
  },
  {
   "cell_type": "code",
   "execution_count": 6,
   "id": "20b792c8",
   "metadata": {},
   "outputs": [
    {
     "name": "stderr",
     "output_type": "stream",
     "text": [
      "ERROR:websocket:error from callback <bound method BaseWebsocketClient.on_close of <qiskit.providers.ibmq.api.clients.websocket.WebsocketClient object at 0x7f9e74dc3af0>>: on_close() missing 2 required positional arguments: 'status_code' and 'msg'\n",
      "ERROR:websocket:error from callback <bound method BaseWebsocketClient.on_close of <qiskit.providers.ibmq.api.clients.websocket.WebsocketClient object at 0x7f9e74dc3af0>>: on_close() missing 2 required positional arguments: 'status_code' and 'msg'\n",
      "ERROR:websocket:error from callback <bound method BaseWebsocketClient.on_close of <qiskit.providers.ibmq.api.clients.websocket.WebsocketClient object at 0x7f9e74dc3af0>>: on_close() missing 2 required positional arguments: 'status_code' and 'msg'\n",
      "ERROR:websocket:error from callback <bound method BaseWebsocketClient.on_close of <qiskit.providers.ibmq.api.clients.websocket.WebsocketClient object at 0x7f9e74dc3af0>>: on_close() missing 2 required positional arguments: 'status_code' and 'msg'\n",
      "ERROR:websocket:close status: 4002\n"
     ]
    }
   ],
   "source": [
    "mit = mthree.M3Mitigation(backend)\n",
    "mit.cals_from_system(list(range(n_qubits)), n_build_shots // 2)"
   ]
  },
  {
   "cell_type": "code",
   "execution_count": 7,
   "id": "32c35a72",
   "metadata": {},
   "outputs": [
    {
     "name": "stderr",
     "output_type": "stream",
     "text": [
      "ERROR:websocket:close status: 4002\n"
     ]
    },
    {
     "name": "stdout",
     "output_type": "stream",
     "text": [
      "0.029499101072440137\n"
     ]
    },
    {
     "name": "stderr",
     "output_type": "stream",
     "text": [
      "ERROR:websocket:close status: 4002\n"
     ]
    },
    {
     "name": "stdout",
     "output_type": "stream",
     "text": [
      "0.026144572067201832\n"
     ]
    },
    {
     "name": "stderr",
     "output_type": "stream",
     "text": [
      "ERROR:websocket:close status: 4002\n"
     ]
    },
    {
     "name": "stdout",
     "output_type": "stream",
     "text": [
      "0.02849436774044678\n"
     ]
    },
    {
     "name": "stderr",
     "output_type": "stream",
     "text": [
      "ERROR:websocket:error from callback <bound method BaseWebsocketClient.on_close of <qiskit.providers.ibmq.api.clients.websocket.WebsocketClient object at 0x7f9e29105370>>: on_close() missing 2 required positional arguments: 'status_code' and 'msg'\n",
      "ERROR:websocket:close status: 4002\n"
     ]
    },
    {
     "name": "stdout",
     "output_type": "stream",
     "text": [
      "0.03145032444811685\n"
     ]
    },
    {
     "name": "stderr",
     "output_type": "stream",
     "text": [
      "ERROR:websocket:close status: 4002\n"
     ]
    },
    {
     "name": "stdout",
     "output_type": "stream",
     "text": [
      "0.01529481216071188\n"
     ]
    },
    {
     "name": "stderr",
     "output_type": "stream",
     "text": [
      "ERROR:websocket:close status: 4002\n"
     ]
    },
    {
     "name": "stdout",
     "output_type": "stream",
     "text": [
      "0.027750309799875472\n"
     ]
    },
    {
     "name": "stderr",
     "output_type": "stream",
     "text": [
      "ERROR:websocket:close status: 4002\n"
     ]
    },
    {
     "name": "stdout",
     "output_type": "stream",
     "text": [
      "0.010458501088981054\n"
     ]
    },
    {
     "name": "stderr",
     "output_type": "stream",
     "text": [
      "ERROR:websocket:close status: 4002\n"
     ]
    },
    {
     "name": "stdout",
     "output_type": "stream",
     "text": [
      "0.015050916149796423\n"
     ]
    },
    {
     "name": "stderr",
     "output_type": "stream",
     "text": [
      "ERROR:websocket:close status: 4002\n"
     ]
    },
    {
     "name": "stdout",
     "output_type": "stream",
     "text": [
      "0.10766143670214501\n"
     ]
    },
    {
     "name": "stderr",
     "output_type": "stream",
     "text": [
      "ERROR:websocket:close status: 4002\n"
     ]
    },
    {
     "name": "stdout",
     "output_type": "stream",
     "text": [
      "0.023297269025060574\n"
     ]
    }
   ],
   "source": [
    "dist_measure = GHZ_state_dist\n",
    "n_reps = 10\n",
    "for i in range(n_reps):\n",
    "    bare_result_job = qiskit.execute(circuit, \n",
    "                         backend, \n",
    "                         shots=n_meas_shots, \n",
    "                         optimization_level=0,\n",
    "                         initial_layout=list(range(n_qubits))\n",
    "                        )\n",
    "    bare_result = bare_result_job.result().get_counts()\n",
    "    print(dist_measure(mit.apply_correction(bare_result, list(range(n_qubits))).nearest_probability_distribution()))"
   ]
  },
  {
   "cell_type": "code",
   "execution_count": null,
   "id": "82ffe071",
   "metadata": {},
   "outputs": [],
   "source": [
    "results"
   ]
  },
  {
   "cell_type": "code",
   "execution_count": null,
   "id": "eed2ed44",
   "metadata": {},
   "outputs": [],
   "source": [
    "ghz_manila_results = {'bare': [0.2963125,\n",
    "  0.17931249999999999,\n",
    "  0.17312499999999997,\n",
    "  0.173875,\n",
    "  0.15606250000000005],\n",
    " 'full': [0.20368415681045032,\n",
    "  0.06906851608570297,\n",
    "  0.08437502800706814,\n",
    "  0.06715740226609074,\n",
    "  0.05554795126652545],\n",
    " 'linear': [0.13761912336161208,\n",
    "  0.10192057905096719,\n",
    "  0.12468340526996569,\n",
    "  0.10607253314285875,\n",
    "  0.09467239058780025],\n",
    " 'aim': [0.2063333333333333,\n",
    "  0.17141666666666666,\n",
    "  0.186,\n",
    "  0.15633333333333332,\n",
    "  0.15504166666666663],\n",
    " 'sim': [0.187625,\n",
    "  0.17912500000000003,\n",
    "  0.2210625,\n",
    "  0.16778125,\n",
    "  0.18993749999999998],\n",
    " 'jigsaw': [0.15333786356040274,\n",
    "  0.11545855466820476,\n",
    "  0.23779651621328113,\n",
    "  0.2039240058459163,\n",
    "  0.17408315492421728],\n",
    " 'cmc': [0.22262870237898374,\n",
    "  0.1241559970874444,\n",
    "  0.1332083571273437,\n",
    "  0.08498339218802736,\n",
    "  0.11248285163839217],\n",
    " 'cmc_err': [0.211963365840158,\n",
    "  0.11202063049277111,\n",
    "  0.12778236918119468,\n",
    "  0.10605238073761358,\n",
    "  0.10688117019739551]}"
   ]
  },
  {
   "cell_type": "code",
   "execution_count": null,
   "id": "0932a5f5",
   "metadata": {},
   "outputs": [],
   "source": [
    "res = ghz_manila_results\n",
    "for r in res:\n",
    "    avg = np.mean(res[r])\n",
    "    h_bound = np.max(res[r]) - avg\n",
    "    l_bound = avg - np.min(res[r])\n",
    "    print(r, \" & \", \"$\", \"%.2f\" % avg, \"\\substack{+\", \"%.2f\" % h_bound, \" \\\\\\\\ -\", \"%.2f\" %l_bound, \"}$\", sep='')"
   ]
  },
  {
   "cell_type": "code",
   "execution_count": null,
   "id": "2b02d915",
   "metadata": {},
   "outputs": [],
   "source": []
  }
 ],
 "metadata": {
  "kernelspec": {
   "display_name": "Python 3",
   "language": "python",
   "name": "python3"
  },
  "language_info": {
   "codemirror_mode": {
    "name": "ipython",
    "version": 3
   },
   "file_extension": ".py",
   "mimetype": "text/x-python",
   "name": "python",
   "nbconvert_exporter": "python",
   "pygments_lexer": "ipython3",
   "version": "3.9.7"
  }
 },
 "nbformat": 4,
 "nbformat_minor": 5
}
