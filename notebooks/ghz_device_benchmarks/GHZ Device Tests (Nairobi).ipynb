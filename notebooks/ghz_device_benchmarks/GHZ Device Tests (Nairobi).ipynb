{
 "cells": [
  {
   "cell_type": "code",
   "execution_count": 1,
   "id": "8f200998",
   "metadata": {},
   "outputs": [
    {
     "data": {
      "application/vnd.jupyter.widget-view+json": {
       "model_id": "c4ff429b796e43c0ba8c1824475d731a",
       "version_major": 2,
       "version_minor": 0
      },
      "text/plain": [
       "Accordion(children=(VBox(layout=Layout(max_width='710px', min_width='710px')),), layout=Layout(max_height='500…"
      ]
     },
     "metadata": {},
     "output_type": "display_data"
    },
    {
     "data": {
      "application/javascript": [
       "\n",
       "        const isLab = window['Jupyter'] === undefined;\n",
       "        const notebook = document.querySelector( isLab ? 'div.jp-Notebook' : '#site');\n",
       "        const jobWidget = document.querySelector('div.job_widget');\n",
       "        notebook.prepend(jobWidget);\n",
       "        jobWidget.style.zIndex = '999';\n",
       "        jobWidget.style.position = isLab ? 'sticky' : 'fixed';\n",
       "        jobWidget.style.boxShadow = '5px 5px 5px -3px black';\n",
       "        jobWidget.style.opacity = '0.95';\n",
       "        if (isLab) {\n",
       "            jobWidget.style.top = '0';\n",
       "            jobWidget.style.left = '0';\n",
       "        }\n",
       "        "
      ],
      "text/plain": [
       "<IPython.core.display.Javascript object>"
      ]
     },
     "metadata": {},
     "output_type": "display_data"
    }
   ],
   "source": [
    "import qiskit\n",
    "import numpy as np\n",
    "\n",
    "from PatchedMeasCal.tensor_patch_cal import TensorPatchFitter\n",
    "from PatchedMeasCal.inv_measure_methods import aim, sim\n",
    "from PatchedMeasCal.jigsaw import jigsaw\n",
    "from PatchedMeasCal.qiskit_meas_fitters import qiskit_full, qiskit_linear\n",
    "\n",
    "\n",
    "from PatchedMeasCal import state_prep_circuits\n",
    "from PatchedMeasCal.fake_measurement_distributions import renormalise_measurement_results\n",
    "from PatchedMeasCal.utils import Progressbar\n",
    "\n",
    "\n",
    "from PatchedMeasCal.state_prep_circuits import GHZ_prep, GHZ_state_dist\n",
    "\n",
    "\n",
    "from qiskit.ignis.mitigation.measurement import complete_meas_cal, CompleteMeasFitter\n",
    "from qiskit.ignis.mitigation.measurement import tensored_meas_cal, TensoredMeasFitter\n",
    "\n",
    "from functools import partial\n",
    "import mthree\n",
    "import qiskit.tools.jupyter\n",
    "\n",
    "qiskit.IBMQ.load_account()\n",
    "provider = qiskit.IBMQ.get_provider()\n",
    "\n",
    "%qiskit_job_watcher"
   ]
  },
  {
   "cell_type": "markdown",
   "id": "8006eba1",
   "metadata": {},
   "source": [
    "## Setup\n",
    "The idea here is that each approachs gets a maximum of 32000 measurement shots to spend\n",
    "- Backend style methods will spend 50% of that on the build, 50% of that on the run\n",
    "- Circuit style methods will spend 50% on their full run, and the other 50% on other circuits that need to be exectued\n",
    "- AIM will divide theirs up evenly"
   ]
  },
  {
   "cell_type": "code",
   "execution_count": 2,
   "id": "6d0b1737",
   "metadata": {},
   "outputs": [],
   "source": [
    "n_qubits = 7\n",
    "n_meas_shots = 16000\n",
    "n_build_shots = 16000\n",
    "\n",
    "\n",
    "n_circuit_method_shots = n_meas_shots + n_build_shots\n",
    "backend = provider.get_backend('ibm_nairobi')\n",
    "\n",
    "n_shots_cmc = n_build_shots // (2 * len(backend.configuration().coupling_map))\n",
    "\n",
    "circuit = GHZ_prep(backend)\n",
    "\n",
    "err_cmap = [[0, 6], [3, 6], [4, 6], [0, 2], [1, 2], [2, 5], [2, 6]]"
   ]
  },
  {
   "cell_type": "markdown",
   "id": "76751ade",
   "metadata": {},
   "source": [
    "## Run with repetitions\n",
    "If everything above is working, let's crank it out a few times"
   ]
  },
  {
   "cell_type": "code",
   "execution_count": null,
   "id": "a6688fe0",
   "metadata": {},
   "outputs": [],
   "source": [
    "n_reps = 1\n",
    "results = {\n",
    "    'bare':[],\n",
    "    'full':[],\n",
    "    'linear':[],\n",
    "    'aim':[],\n",
    "    'sim':[],\n",
    "    'jigsaw':[],\n",
    "    'cmc':[],\n",
    "    'cmc_err':[]\n",
    "}\n",
    "\n",
    "for _ in range(n_reps):\n",
    "\n",
    "    bare_result_job = qiskit.execute(circuit, \n",
    "                         backend, \n",
    "                         shots=n_meas_shots, \n",
    "                         optimization_level=0,\n",
    "                         initial_layout=list(range(n_qubits))\n",
    "                        )\n",
    "    \n",
    "    tpf_err = TensorPatchFitter(backend, n_shots=n_shots_cmc, coupling_map=err_cmap)\n",
    "    tpf_err.build(verbose=True)\n",
    "    \n",
    "    tpf = TensorPatchFitter(backend, n_shots=n_shots_cmc)\n",
    "    tpf.build(verbose=True)\n",
    "    \n",
    "    bare_result = bare_result_job.result().get_counts()\n",
    "    \n",
    "    results['bare'].append(\n",
    "        GHZ_state_dist(bare_result)\n",
    "    )\n",
    "    \n",
    "    \n",
    "    results['cmc'].append(\n",
    "            GHZ_state_dist(tpf.apply(bare_result))\n",
    "    )\n",
    "    results['cmc_err'].append(\n",
    "            GHZ_state_dist(tpf_err.apply(bare_result))\n",
    "    )\n",
    "    results['aim'].append(GHZ_state_dist(aim(circuit, backend, n_qubits, n_shots=n_circuit_method_shots, equal_shot_distribution=True)))\n",
    "    results['sim'].append(GHZ_state_dist(sim(circuit, backend, n_qubits, n_shots=n_circuit_method_shots, equal_shot_distribution=True)))\n",
    "    results['jigsaw'].append(GHZ_state_dist(jigsaw(circuit, backend, n_circuit_method_shots, equal_shot_distribution=True)))\n",
    "\n"
   ]
  },
  {
   "cell_type": "code",
   "execution_count": 3,
   "id": "8175b3ea",
   "metadata": {},
   "outputs": [
    {
     "name": "stderr",
     "output_type": "stream",
     "text": [
      "ERROR:websocket:close status: 4002\n"
     ]
    }
   ],
   "source": [
    "mit = mthree.M3Mitigation(backend)\n",
    "mit.cals_from_system(list(range(n_qubits)), n_build_shots // 2)"
   ]
  },
  {
   "cell_type": "code",
   "execution_count": 7,
   "id": "8d71ceb0",
   "metadata": {},
   "outputs": [
    {
     "name": "stderr",
     "output_type": "stream",
     "text": [
      "ERROR:websocket:close status: 4002\n"
     ]
    },
    {
     "name": "stdout",
     "output_type": "stream",
     "text": [
      "0.5001510364875182\n"
     ]
    },
    {
     "name": "stderr",
     "output_type": "stream",
     "text": [
      "ERROR:websocket:close status: 4002\n"
     ]
    },
    {
     "name": "stdout",
     "output_type": "stream",
     "text": [
      "0.009805490818595941\n"
     ]
    },
    {
     "name": "stderr",
     "output_type": "stream",
     "text": [
      "ERROR:websocket:close status: 4002\n"
     ]
    },
    {
     "name": "stdout",
     "output_type": "stream",
     "text": [
      "0.004612497005841154\n"
     ]
    },
    {
     "name": "stderr",
     "output_type": "stream",
     "text": [
      "ERROR:websocket:close status: 4002\n"
     ]
    },
    {
     "name": "stdout",
     "output_type": "stream",
     "text": [
      "0.01401074330167662\n"
     ]
    },
    {
     "name": "stderr",
     "output_type": "stream",
     "text": [
      "ERROR:websocket:close status: 4002\n"
     ]
    },
    {
     "name": "stdout",
     "output_type": "stream",
     "text": [
      "0.5067075410982758\n"
     ]
    },
    {
     "name": "stderr",
     "output_type": "stream",
     "text": [
      "ERROR:websocket:close status: 4002\n"
     ]
    },
    {
     "name": "stdout",
     "output_type": "stream",
     "text": [
      "0.5167659309723334\n"
     ]
    },
    {
     "name": "stderr",
     "output_type": "stream",
     "text": [
      "ERROR:websocket:close status: 4002\n"
     ]
    },
    {
     "name": "stdout",
     "output_type": "stream",
     "text": [
      "0.013583588014395853\n"
     ]
    },
    {
     "name": "stderr",
     "output_type": "stream",
     "text": [
      "ERROR:websocket:close status: 4002\n"
     ]
    },
    {
     "name": "stdout",
     "output_type": "stream",
     "text": [
      "0.016660386676533245\n"
     ]
    },
    {
     "name": "stderr",
     "output_type": "stream",
     "text": [
      "ERROR:websocket:close status: 4002\n"
     ]
    },
    {
     "name": "stdout",
     "output_type": "stream",
     "text": [
      "0.50619505445533\n"
     ]
    },
    {
     "name": "stderr",
     "output_type": "stream",
     "text": [
      "ERROR:websocket:close status: 4002\n"
     ]
    },
    {
     "name": "stdout",
     "output_type": "stream",
     "text": [
      "0.03351436070725128\n"
     ]
    }
   ],
   "source": [
    "dist_measure = GHZ_state_dist\n",
    "n_reps = 10\n",
    "for i in range(n_reps):\n",
    "    bare_result_job = qiskit.execute(circuit, \n",
    "                         backend, \n",
    "                         shots=n_meas_shots, \n",
    "                         optimization_level=0,\n",
    "                         initial_layout=list(range(n_qubits))\n",
    "                        )\n",
    "    bare_result = bare_result_job.result().get_counts()\n",
    "    print(dist_measure(mit.apply_correction(bare_result, list(range(n_qubits))).nearest_probability_distribution()))"
   ]
  },
  {
   "cell_type": "code",
   "execution_count": null,
   "id": "aff2b1cc",
   "metadata": {},
   "outputs": [],
   "source": [
    "ghz_nairobi_results = {'bare': [0.553375,\n",
    "  0.5554375,\n",
    "  0.55325,\n",
    "  0.549875,\n",
    "  0.5726875,\n",
    "  0.5525625,\n",
    "  0.55525,\n",
    "  0.555625,\n",
    "  0.5591875,\n",
    "  0.5486249999999999],\n",
    " #'full': [],\n",
    " #'linear': [],\n",
    " 'aim': [0.559125,\n",
    "  0.5803333333333334,\n",
    "  0.56375,\n",
    "  0.5695416666666666,\n",
    "  0.5639583333333333,\n",
    "  0.5747083333333334,\n",
    "  0.5677083333333334,\n",
    "  0.5725,\n",
    "  0.5625,\n",
    "  0.5633333333333334],\n",
    " 'sim': [0.6105,\n",
    "  0.618875,\n",
    "  0.61815625,\n",
    "  0.5972187499999999,\n",
    "  0.6183125,\n",
    "  0.6170625,\n",
    "  0.61253125,\n",
    "  0.61053125,\n",
    "  0.62171875,\n",
    "  0.62515625],\n",
    " 'jigsaw': [0.5018601596335341,\n",
    "  0.656408983150848,\n",
    "  0.43845249145644244,\n",
    "  0.518340760339433,\n",
    "  0.5518806880966112,\n",
    "  0.7122806394239136,\n",
    "  0.2896155744864006,\n",
    "  0.36494561116402285,\n",
    "  0.5395461564616844,\n",
    "  0.6183232131275852],\n",
    " 'cmc': [0.5809189860871635,\n",
    "  0.648574695874923,\n",
    "  0.6585022033086935,\n",
    "  0.654537386121596,\n",
    "  0.6649499218377213,\n",
    "  0.6469146228332103,\n",
    "  0.6440979058085586,\n",
    "  0.6635841591375468,\n",
    "  0.6510904750165334,\n",
    "  0.6337076949513196],\n",
    " 'cmc_err': [0.249237489158588,\n",
    "  0.2335192527421946,\n",
    "  0.21365042967272457,\n",
    "  0.21752806216764553,\n",
    "  0.25360882077965474,\n",
    "  0.7014351090443616,\n",
    "  0.2097346032092665,\n",
    "  0.24846343803275317,\n",
    "  0.7339895705059154,\n",
    "  0.21675982518896447]}"
   ]
  },
  {
   "cell_type": "code",
   "execution_count": null,
   "id": "631a334d",
   "metadata": {},
   "outputs": [],
   "source": [
    "res = ghz_nairobi_results\n",
    "for r in res:\n",
    "    avg = np.mean(res[r])\n",
    "    h_bound = np.max(res[r]) - avg\n",
    "    l_bound = avg - np.min(res[r])\n",
    "    print(r, \" & \", \"$\", \"%.2f\" % avg, \"\\substack{+\", \"%.2f\" % h_bound, \" \\\\\\\\ -\", \"%.2f\" %l_bound, \"}$\", sep='')"
   ]
  },
  {
   "cell_type": "code",
   "execution_count": null,
   "id": "fa974e9c",
   "metadata": {},
   "outputs": [],
   "source": [
    "for i in res:\n",
    "    print(i, np.max(res[i]))"
   ]
  },
  {
   "cell_type": "code",
   "execution_count": null,
   "id": "471ba17d",
   "metadata": {},
   "outputs": [],
   "source": []
  }
 ],
 "metadata": {
  "kernelspec": {
   "display_name": "Python 3",
   "language": "python",
   "name": "python3"
  },
  "language_info": {
   "codemirror_mode": {
    "name": "ipython",
    "version": 3
   },
   "file_extension": ".py",
   "mimetype": "text/x-python",
   "name": "python",
   "nbconvert_exporter": "python",
   "pygments_lexer": "ipython3",
   "version": "3.9.7"
  }
 },
 "nbformat": 4,
 "nbformat_minor": 5
}
