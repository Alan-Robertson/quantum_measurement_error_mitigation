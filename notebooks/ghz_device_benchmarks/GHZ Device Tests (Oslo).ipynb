{
 "cells": [
  {
   "cell_type": "code",
   "execution_count": 5,
   "id": "8f200998",
   "metadata": {},
   "outputs": [
    {
     "name": "stderr",
     "output_type": "stream",
     "text": [
      "ibmqfactory.load_account:WARNING:2023-03-02 11:30:14,372: Credentials are already in use. The existing account in the session will be replaced.\n"
     ]
    },
    {
     "data": {
      "application/vnd.jupyter.widget-view+json": {
       "model_id": "013ff49decd2431796a806dbd58f610e",
       "version_major": 2,
       "version_minor": 0
      },
      "text/plain": [
       "Accordion(children=(VBox(layout=Layout(max_width='710px', min_width='710px')),), layout=Layout(max_height='500…"
      ]
     },
     "metadata": {},
     "output_type": "display_data"
    },
    {
     "data": {
      "application/javascript": [
       "\n",
       "        const isLab = window['Jupyter'] === undefined;\n",
       "        const notebook = document.querySelector( isLab ? 'div.jp-Notebook' : '#site');\n",
       "        const jobWidget = document.querySelector('div.job_widget');\n",
       "        notebook.prepend(jobWidget);\n",
       "        jobWidget.style.zIndex = '999';\n",
       "        jobWidget.style.position = isLab ? 'sticky' : 'fixed';\n",
       "        jobWidget.style.boxShadow = '5px 5px 5px -3px black';\n",
       "        jobWidget.style.opacity = '0.95';\n",
       "        if (isLab) {\n",
       "            jobWidget.style.top = '0';\n",
       "            jobWidget.style.left = '0';\n",
       "        }\n",
       "        "
      ],
      "text/plain": [
       "<IPython.core.display.Javascript object>"
      ]
     },
     "metadata": {},
     "output_type": "display_data"
    }
   ],
   "source": [
    "import qiskit\n",
    "import numpy as np\n",
    "\n",
    "from PatchedMeasCal.tensor_patch_cal import TensorPatchFitter\n",
    "from PatchedMeasCal.inv_measure_methods import aim, sim\n",
    "from PatchedMeasCal.jigsaw import jigsaw\n",
    "from PatchedMeasCal.qiskit_meas_fitters import qiskit_full, qiskit_linear\n",
    "\n",
    "\n",
    "from PatchedMeasCal import state_prep_circuits\n",
    "from PatchedMeasCal.fake_measurement_distributions import renormalise_measurement_results\n",
    "from PatchedMeasCal.utils import Progressbar\n",
    "\n",
    "\n",
    "from PatchedMeasCal.state_prep_circuits import GHZ_prep, GHZ_state_dist\n",
    "\n",
    "\n",
    "from qiskit.ignis.mitigation.measurement import complete_meas_cal, CompleteMeasFitter\n",
    "from qiskit.ignis.mitigation.measurement import tensored_meas_cal, TensoredMeasFitter\n",
    "\n",
    "from functools import partial\n",
    "import mthree\n",
    "import qiskit.tools.jupyter\n",
    "\n",
    "qiskit.IBMQ.load_account()\n",
    "provider = qiskit.IBMQ.get_provider()\n",
    "\n",
    "%qiskit_job_watcher"
   ]
  },
  {
   "cell_type": "markdown",
   "id": "8006eba1",
   "metadata": {},
   "source": [
    "## Setup\n",
    "The idea here is that each approachs gets a maximum of 32000 measurement shots to spend\n",
    "- Backend style methods will spend 50% of that on the build, 50% of that on the run\n",
    "- Circuit style methods will spend 50% on their full run, and the other 50% on other circuits that need to be exectued\n",
    "- AIM will divide theirs up evenly"
   ]
  },
  {
   "cell_type": "code",
   "execution_count": 2,
   "id": "6d0b1737",
   "metadata": {},
   "outputs": [],
   "source": [
    "n_qubits = 7\n",
    "n_meas_shots = 16000\n",
    "n_build_shots = 16000\n",
    "\n",
    "n_circuit_method_shots = n_meas_shots + n_build_shots\n",
    "backend = provider.get_backend('ibm_oslo')\n",
    "\n",
    "circuit = GHZ_prep(backend)\n",
    "\n",
    "err_cmap = [[1, 3], [5, 6], [0, 5], [0, 4], [0, 2], [0, 3], [0, 6]]"
   ]
  },
  {
   "cell_type": "markdown",
   "id": "6c1945bf",
   "metadata": {},
   "source": [
    "## Qiskit Full Build"
   ]
  },
  {
   "cell_type": "code",
   "execution_count": null,
   "id": "95f1933d",
   "metadata": {},
   "outputs": [],
   "source": [
    "n_shots_cmc = n_build_shots // (2 * len(backend.configuration().coupling_map))"
   ]
  },
  {
   "cell_type": "markdown",
   "id": "76751ade",
   "metadata": {},
   "source": [
    "## Run with repetitions\n",
    "If everything above is working, let's crank it out a few times"
   ]
  },
  {
   "cell_type": "code",
   "execution_count": null,
   "id": "a6688fe0",
   "metadata": {},
   "outputs": [],
   "source": [
    "n_reps = 10\n",
    "results = {\n",
    "    'bare':[],\n",
    "    'full':[],\n",
    "    'linear':[],\n",
    "    'aim':[],\n",
    "    'sim':[],\n",
    "    'jigsaw':[],\n",
    "    'cmc':[],\n",
    "    'cmc_err':[]\n",
    "}\n",
    "\n",
    "for _ in range(n_reps):\n",
    "\n",
    "    bare_result_job = qiskit.execute(circuit, \n",
    "                         backend, \n",
    "                         shots=n_meas_shots, \n",
    "                         optimization_level=0,\n",
    "                         initial_layout=list(range(n_qubits))\n",
    "                        )\n",
    "    \n",
    "    tpf_err = TensorPatchFitter(backend, n_shots=n_shots_cmc, coupling_map=err_cmap)\n",
    "    tpf_err.build(verbose=True)\n",
    "    \n",
    "    tpf = TensorPatchFitter(backend, n_shots=n_shots_cmc)\n",
    "    tpf.build(verbose=True)\n",
    "    \n",
    "    bare_result = bare_result_job.result().get_counts()\n",
    "    \n",
    "    results['bare'].append(\n",
    "        GHZ_state_dist(bare_result)\n",
    "    )\n",
    "    \n",
    "    \n",
    "    results['cmc'].append(\n",
    "            GHZ_state_dist(tpf.apply(bare_result))\n",
    "    )\n",
    "    results['cmc_err'].append(\n",
    "            GHZ_state_dist(tpf_err.apply(bare_result))\n",
    "    )\n",
    "    results['aim'].append(GHZ_state_dist(aim(circuit, backend, n_qubits, n_shots=n_circuit_method_shots, equal_shot_distribution=True)))\n",
    "    results['sim'].append(GHZ_state_dist(sim(circuit, backend, n_qubits, n_shots=n_circuit_method_shots, equal_shot_distribution=True)))\n",
    "    results['jigsaw'].append(GHZ_state_dist(jigsaw(circuit, backend, n_circuit_method_shots, equal_shot_distribution=True)))\n",
    "\n"
   ]
  },
  {
   "cell_type": "code",
   "execution_count": 6,
   "id": "e1373394",
   "metadata": {},
   "outputs": [
    {
     "name": "stderr",
     "output_type": "stream",
     "text": [
      "ERROR:websocket:close status: 4002\n"
     ]
    }
   ],
   "source": [
    "mit = mthree.M3Mitigation(backend)\n",
    "mit.cals_from_system(list(range(n_qubits)), n_build_shots // 2)"
   ]
  },
  {
   "cell_type": "code",
   "execution_count": 9,
   "id": "98b9089a",
   "metadata": {},
   "outputs": [
    {
     "name": "stderr",
     "output_type": "stream",
     "text": [
      "ERROR:websocket:close status: 4002\n"
     ]
    },
    {
     "name": "stdout",
     "output_type": "stream",
     "text": [
      "0.5122883866119126\n"
     ]
    },
    {
     "name": "stderr",
     "output_type": "stream",
     "text": [
      "ERROR:websocket:error from callback <bound method BaseWebsocketClient.on_close of <qiskit.providers.ibmq.api.clients.websocket.WebsocketClient object at 0x7f82e9137c40>>: on_close() missing 2 required positional arguments: 'status_code' and 'msg'\n",
      "ERROR:websocket:close status: 4002\n"
     ]
    },
    {
     "name": "stdout",
     "output_type": "stream",
     "text": [
      "0.005033404185518453\n"
     ]
    },
    {
     "name": "stderr",
     "output_type": "stream",
     "text": [
      "ERROR:websocket:close status: 4002\n"
     ]
    },
    {
     "name": "stdout",
     "output_type": "stream",
     "text": [
      "0.011531869065367073\n"
     ]
    }
   ],
   "source": [
    "dist_measure = GHZ_state_dist\n",
    "n_reps = 3\n",
    "for i in range(n_reps):\n",
    "    bare_result_job = qiskit.execute(circuit, \n",
    "                         backend, \n",
    "                         shots=n_meas_shots, \n",
    "                         optimization_level=0,\n",
    "                         initial_layout=list(range(n_qubits))\n",
    "                        )\n",
    "    bare_result = bare_result_job.result().get_counts()\n",
    "    print(dist_measure(mit.apply_correction(bare_result, list(range(n_qubits))).nearest_probability_distribution()))"
   ]
  },
  {
   "cell_type": "code",
   "execution_count": 1,
   "id": "d9b96cc9",
   "metadata": {},
   "outputs": [],
   "source": [
    "ghz_oslo_results = {'bare': [0.7698125, 0.7624375, 0.7776875000000001],\n",
    " 'aim': [0.783625, 0.7827083333333333, 0.7809999999999999],\n",
    " 'sim': [0.7711875, 0.7711250000000001, 0.77609375],\n",
    " 'jigsaw': [0.7374128610389914, 0.8926451019481989, 0.5608884813432252],\n",
    " 'cmc': [0.7536631803911169, 0.7517516308561187, 0.782489760135086],\n",
    " 'cmc_err': [0.7441189816875593, 0.7314468107679665, 0.7635942542604933]}"
   ]
  },
  {
   "cell_type": "code",
   "execution_count": null,
   "id": "dacb33d9",
   "metadata": {},
   "outputs": [],
   "source": [
    "res = ghz_oslo_results\n",
    "for r in res:\n",
    "    avg = np.mean(res[r])\n",
    "    h_bound = np.max(res[r]) - avg\n",
    "    l_bound = avg - np.min(res[r])\n",
    "    print(r, \" & \", \"$\", \"%.2f\" % avg, \"\\substack{+\", \"%.2f\" % h_bound, \" \\\\\\\\ -\", \"%.2f\" %l_bound, \"}$\", sep='')"
   ]
  }
 ],
 "metadata": {
  "kernelspec": {
   "display_name": "Python 3",
   "language": "python",
   "name": "python3"
  },
  "language_info": {
   "codemirror_mode": {
    "name": "ipython",
    "version": 3
   },
   "file_extension": ".py",
   "mimetype": "text/x-python",
   "name": "python",
   "nbconvert_exporter": "python",
   "pygments_lexer": "ipython3",
   "version": "3.9.7"
  }
 },
 "nbformat": 4,
 "nbformat_minor": 5
}
