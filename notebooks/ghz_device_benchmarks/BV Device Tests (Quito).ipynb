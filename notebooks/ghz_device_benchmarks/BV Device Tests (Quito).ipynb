{
 "cells": [
  {
   "cell_type": "code",
   "execution_count": 1,
   "id": "8f200998",
   "metadata": {},
   "outputs": [
    {
     "data": {
      "application/vnd.jupyter.widget-view+json": {
       "model_id": "88e211bb697d4ca383aaab71c4e7eca2",
       "version_major": 2,
       "version_minor": 0
      },
      "text/plain": [
       "Accordion(children=(VBox(layout=Layout(max_width='710px', min_width='710px')),), layout=Layout(max_height='500…"
      ]
     },
     "metadata": {},
     "output_type": "display_data"
    },
    {
     "data": {
      "application/javascript": [
       "\n",
       "        const isLab = window['Jupyter'] === undefined;\n",
       "        const notebook = document.querySelector( isLab ? 'div.jp-Notebook' : '#site');\n",
       "        const jobWidget = document.querySelector('div.job_widget');\n",
       "        notebook.prepend(jobWidget);\n",
       "        jobWidget.style.zIndex = '999';\n",
       "        jobWidget.style.position = isLab ? 'sticky' : 'fixed';\n",
       "        jobWidget.style.boxShadow = '5px 5px 5px -3px black';\n",
       "        jobWidget.style.opacity = '0.95';\n",
       "        if (isLab) {\n",
       "            jobWidget.style.top = '0';\n",
       "            jobWidget.style.left = '0';\n",
       "        }\n",
       "        "
      ],
      "text/plain": [
       "<IPython.core.display.Javascript object>"
      ]
     },
     "metadata": {},
     "output_type": "display_data"
    }
   ],
   "source": [
    "import qiskit\n",
    "import numpy as np\n",
    "\n",
    "from PatchedMeasCal.tensor_patch_cal import TensorPatchFitter\n",
    "from PatchedMeasCal.inv_measure_methods import aim, sim\n",
    "from PatchedMeasCal.jigsaw import jigsaw\n",
    "from PatchedMeasCal.qiskit_meas_fitters import qiskit_full, qiskit_linear\n",
    "\n",
    "\n",
    "from PatchedMeasCal.fake_backends import LocalSimulator\n",
    "\n",
    "\n",
    "from PatchedMeasCal import state_prep_circuits\n",
    "from PatchedMeasCal.fake_measurement_distributions import renormalise_measurement_results\n",
    "from PatchedMeasCal.utils import Progressbar\n",
    "\n",
    "from PatchedMeasCal.fake_backends import Grid, Hexagonal16, FullyConnected\n",
    "\n",
    "from PatchedMeasCal.state_prep_circuits import GHZ_prep, GHZ_state_dist\n",
    "from PatchedMeasCal.bv import bv_circuit_cmap\n",
    "\n",
    "\n",
    "\n",
    "from qiskit.ignis.mitigation.measurement import complete_meas_cal, CompleteMeasFitter\n",
    "from qiskit.ignis.mitigation.measurement import tensored_meas_cal, TensoredMeasFitter\n",
    "\n",
    "from functools import partial\n",
    "\n",
    "import qiskit.tools.jupyter\n",
    "\n",
    "import mthree\n",
    "\n",
    "import random\n",
    "\n",
    "qiskit.IBMQ.load_account()\n",
    "provider = qiskit.IBMQ.get_provider()\n",
    "\n",
    "%qiskit_job_watcher"
   ]
  },
  {
   "cell_type": "code",
   "execution_count": 2,
   "id": "f30b94b2",
   "metadata": {},
   "outputs": [],
   "source": [
    "def distance_measure(x, bv_value):\n",
    "    if bv_value in x:\n",
    "        return 1 - (x[bv_value] / sum(x.values()))\n",
    "    return 1"
   ]
  },
  {
   "cell_type": "markdown",
   "id": "8006eba1",
   "metadata": {},
   "source": [
    "## Setup\n",
    "The idea here is that each approachs gets a maximum of 32000 measurement shots to spend\n",
    "- Backend style methods will spend 50% of that on the build, 50% of that on the run\n",
    "- Circuit style methods will spend 50% on their full run, and the other 50% on other circuits that need to be exectued\n",
    "- AIM will divide theirs up evenly"
   ]
  },
  {
   "cell_type": "code",
   "execution_count": 3,
   "id": "6d0b1737",
   "metadata": {},
   "outputs": [],
   "source": [
    "n_qubits = 5\n",
    "n_meas_shots = 16000\n",
    "n_build_shots = 16000\n",
    "n_shots_qiskit_full = n_build_shots // (2 ** n_qubits) \n",
    "n_shots_qiskit_partial = n_build_shots // (n_qubits)\n",
    "\n",
    "\n",
    "n_circuit_method_shots = n_meas_shots + n_build_shots\n",
    "backend = provider.get_backend('ibmq_quito')\n",
    "\n",
    "circuit = GHZ_prep(backend)\n",
    "\n",
    "n_shots_cmc = n_build_shots // (2 * len(backend.configuration().coupling_map))\n",
    "\n",
    "err_cmap = [[3, 4], [0, 4], [1, 4], [2, 4]]"
   ]
  },
  {
   "cell_type": "markdown",
   "id": "6c1945bf",
   "metadata": {},
   "source": [
    "## Mitigation Methods Build"
   ]
  },
  {
   "cell_type": "code",
   "execution_count": 4,
   "id": "95f1933d",
   "metadata": {},
   "outputs": [
    {
     "name": "stderr",
     "output_type": "stream",
     "text": [
      "ERROR:websocket:error from callback <bound method BaseWebsocketClient.on_close of <qiskit.providers.ibmq.api.clients.websocket.WebsocketClient object at 0x7f39a135eca0>>: on_close() missing 2 required positional arguments: 'status_code' and 'msg'\n",
      "ERROR:websocket:error from callback <bound method BaseWebsocketClient.on_close of <qiskit.providers.ibmq.api.clients.websocket.WebsocketClient object at 0x7f39a135eca0>>: on_close() missing 2 required positional arguments: 'status_code' and 'msg'\n",
      "ERROR:websocket:error from callback <bound method BaseWebsocketClient.on_close of <qiskit.providers.ibmq.api.clients.websocket.WebsocketClient object at 0x7f39a135eca0>>: on_close() missing 2 required positional arguments: 'status_code' and 'msg'\n",
      "ERROR:websocket:close status: 4002\n",
      "ERROR:websocket:close status: 4002\n",
      "ERROR:websocket:close status: 4002\n"
     ]
    },
    {
     "name": "stdout",
     "output_type": "stream",
     "text": [
      "Building Coupling Graph\n",
      "Building Edge Calibrations\n",
      "\tBuilding Calibration Circuits\n",
      "\tBuilding Edge Patches : [====================] 100.0%  ETA: 0s\n",
      "\tBuilding Edge Patches : [====================] 100.0%  ETA: 0s\n",
      "\tConstructing Calibration Circuits : [====================] 100.0%  ETA: 0s\n",
      "\tExecuting Calibration Circuits\n"
     ]
    },
    {
     "name": "stderr",
     "output_type": "stream",
     "text": [
      "ERROR:websocket:close status: 4002\n"
     ]
    },
    {
     "name": "stdout",
     "output_type": "stream",
     "text": [
      "\tDe-hexing Measurement Results\n",
      "\tTracing Patched Calibration Results : [====================] 100.0%  ETA: 0s\n",
      "Building Patch Calibrations\n",
      "\tMerging Patches : [====================] 100.0%  ETA: 0s\n",
      "Building Measure Fitter\n",
      "\tBuilding Meas Fitters from Patches : [====================] 100.0%  ETA: 0s\n",
      "Building Coupling Graph\n",
      "Building Edge Calibrations\n",
      "\tBuilding Calibration Circuits\n",
      "\tBuilding Edge Patches : [====================] 100.0%  ETA: 0s\n",
      "\tBuilding Edge Patches : [====================] 100.0%  ETA: 0s\n",
      "\tConstructing Calibration Circuits : [====================] 100.0%  ETA: 0s\n",
      "\tExecuting Calibration Circuits\n"
     ]
    },
    {
     "name": "stderr",
     "output_type": "stream",
     "text": [
      "ERROR:websocket:close status: 4002\n"
     ]
    },
    {
     "name": "stdout",
     "output_type": "stream",
     "text": [
      "\tDe-hexing Measurement Results\n",
      "\tTracing Patched Calibration Results : [====================] 100.0%  ETA: 0s\n",
      "Building Patch Calibrations\n",
      "\tMerging Patches : [====================] 100.0%  ETA: 0s\n",
      "Building Measure Fitter\n",
      "\tBuilding Meas Fitters from Patches : [====================] 100.0%  ETA: 0s\n"
     ]
    }
   ],
   "source": [
    "full_filter = qiskit_full(backend, n_qubits, n_shots_qiskit_full)\n",
    "\n",
    "# n Circuits to execute\n",
    "linear_filter = qiskit_linear(backend, n_qubits, n_shots_qiskit_partial)\n",
    "\n",
    "mit = mthree.M3Mitigation(backend)\n",
    "mit.cals_from_system(list(range(n_qubits)), n_build_shots // 2)\n",
    "\n",
    "tpf_err = TensorPatchFitter(backend, n_shots=n_shots_cmc, coupling_map=err_cmap)\n",
    "tpf_err.build(verbose=True)\n",
    "\n",
    "tpf = TensorPatchFitter(backend, n_shots=n_shots_cmc)\n",
    "tpf.build(verbose=True)"
   ]
  },
  {
   "cell_type": "markdown",
   "id": "76751ade",
   "metadata": {},
   "source": [
    "## Run with repetitions\n",
    "If everything above is working, let's crank it out a few times"
   ]
  },
  {
   "cell_type": "code",
   "execution_count": 12,
   "id": "a6688fe0",
   "metadata": {},
   "outputs": [
    {
     "name": "stderr",
     "output_type": "stream",
     "text": [
      "ERROR:websocket:error from callback <bound method BaseWebsocketClient.on_close of <qiskit.providers.ibmq.api.clients.websocket.WebsocketClient object at 0x7f39a09b8c70>>: on_close() missing 2 required positional arguments: 'status_code' and 'msg'\n",
      "ERROR:websocket:error from callback <bound method BaseWebsocketClient.on_close of <qiskit.providers.ibmq.api.clients.websocket.WebsocketClient object at 0x7f39a09b8c70>>: on_close() missing 2 required positional arguments: 'status_code' and 'msg'\n",
      "ERROR:websocket:error from callback <bound method BaseWebsocketClient.on_close of <qiskit.providers.ibmq.api.clients.websocket.WebsocketClient object at 0x7f39a09b8c70>>: on_close() missing 2 required positional arguments: 'status_code' and 'msg'\n",
      "ERROR:websocket:error from callback <bound method BaseWebsocketClient.on_close of <qiskit.providers.ibmq.api.clients.websocket.WebsocketClient object at 0x7f39a09b8c70>>: on_close() missing 2 required positional arguments: 'status_code' and 'msg'\n",
      "ERROR:websocket:close status: 4002\n",
      "ERROR:websocket:close status: 4002\n",
      "ERROR:websocket:error from callback <bound method BaseWebsocketClient.on_close of <qiskit.providers.ibmq.api.clients.websocket.WebsocketClient object at 0x7f39a08d1b20>>: on_close() missing 2 required positional arguments: 'status_code' and 'msg'\n",
      "ERROR:websocket:close status: 4002\n",
      "ERROR:websocket:close status: 4002\n",
      "ERROR:websocket:close status: 4002\n",
      "ERROR:websocket:close status: 4002\n",
      "ERROR:websocket:close status: 4002\n",
      "ERROR:websocket:close status: 4002\n",
      "ERROR:websocket:close status: 4002\n",
      "ERROR:websocket:close status: 4002\n",
      "ERROR:websocket:close status: 4002\n",
      "ERROR:websocket:close status: 4002\n",
      "ERROR:websocket:close status: 4002\n",
      "ERROR:websocket:close status: 4002\n",
      "ERROR:websocket:close status: 4002\n",
      "ERROR:websocket:close status: 4002\n",
      "ERROR:websocket:close status: 4002\n",
      "ERROR:websocket:close status: 4002\n"
     ]
    }
   ],
   "source": [
    "backend = provider.get_backend('ibmq_quito')\n",
    "\n",
    "n_reps = 3\n",
    "results = {\n",
    "    'bare':[],\n",
    "    'full':[],\n",
    "    'linear':[],\n",
    "    'aim':[],\n",
    "    'sim':[],\n",
    "    'jigsaw':[],\n",
    "    'cmc':[],\n",
    "    'cmc_err':[],\n",
    "    'm3':[]\n",
    "}\n",
    "\n",
    "for _ in range(n_reps):\n",
    "\n",
    "    target_value = random.randint(0, 2 ** (n_qubits - 1) - 1)\n",
    "    bv_value = bin((target_value << 1) + 1)[2:].zfill(n_qubits)[::-1]\n",
    "    bv_string = bin(target_value)[2:].zfill(n_qubits - 1)\n",
    "    circuit = bv_circuit_cmap(bv_string, n_qubits, backend)\n",
    "    dist_measure = lambda x: distance_measure(x, bv_value)\n",
    "    \n",
    "    bare_result_job = qiskit.execute(circuit, \n",
    "                         backend, \n",
    "                         shots=n_meas_shots, \n",
    "                         optimization_level=0,\n",
    "                         initial_layout=list(range(n_qubits))\n",
    "                        )\n",
    "    \n",
    "    \n",
    "    bare_result = bare_result_job.result().get_counts()\n",
    "    \n",
    "    results['bare'].append(\n",
    "        dist_measure(bare_result)\n",
    "    )\n",
    "    results['full'].append(\n",
    "        dist_measure(full_filter.apply(bare_result))\n",
    "    )\n",
    "    results['linear'].append(\n",
    "        dist_measure(linear_filter.apply(bare_result))\n",
    "    )\n",
    "    results['cmc'].append(\n",
    "        dist_measure(tpf.apply(bare_result))\n",
    "    )\n",
    "    results['cmc_err'].append(\n",
    "        dist_measure(tpf_err.apply(bare_result))\n",
    "    )\n",
    "    \n",
    "    results ['m3'].append(\n",
    "        dist_measure(mit.apply_correction(bare_result, list(range(n_qubits))).nearest_probability_distribution())\n",
    "    )\n",
    "    \n",
    "    results['aim'].append(dist_measure(aim(circuit, backend, n_qubits, n_shots=n_circuit_method_shots, equal_shot_distribution=True)))\n",
    "    results['sim'].append(dist_measure(sim(circuit, backend, n_qubits, n_shots=n_circuit_method_shots, equal_shot_distribution=True)))\n",
    "    results['jigsaw'].append(dist_measure(jigsaw(circuit, backend, n_circuit_method_shots, equal_shot_distribution=True)))\n",
    "    "
   ]
  },
  {
   "cell_type": "code",
   "execution_count": 13,
   "id": "f387a3a7",
   "metadata": {},
   "outputs": [
    {
     "data": {
      "text/plain": [
       "{'bare': [0.4183125, 0.48475, 0.358375],\n",
       " 'full': [0.02496944474226559, 0.1225244501996261, 0.16955610212559058],\n",
       " 'linear': [0.07527372892606266, 0.1719878544995166, 0.18877842357342622],\n",
       " 'aim': [0.2476666666666667, 0.3214583333333333, 0.3327083333333334],\n",
       " 'sim': [0.35446875, 0.40240624999999997, 0.40421874999999996],\n",
       " 'jigsaw': [0.22136622708111964, 0.27970136318390326, 0.13110988537535373],\n",
       " 'cmc': [0.2778987206832786, 0.3340514818830528, 0.15519211756501583],\n",
       " 'cmc_err': [0.29523253824051043, 0.35045320917246936, 0.17302963305647479],\n",
       " 'm3': [0.06373967257505775, 0.1446703799823844, 0.17495802704873575]}"
      ]
     },
     "execution_count": 13,
     "metadata": {},
     "output_type": "execute_result"
    }
   ],
   "source": [
    "results"
   ]
  },
  {
   "cell_type": "code",
   "execution_count": null,
   "id": "d9b96cc9",
   "metadata": {},
   "outputs": [],
   "source": [
    "bv_quito_results = {'bare': [0.25956250000000003,\n",
    "  0.265875,\n",
    "  0.262625,\n",
    "  0.26937500000000003,\n",
    "  0.2646875,\n",
    "  0.26387499999999997,\n",
    "  0.2573125,\n",
    "  0.249875,\n",
    "  0.27362499999999995,\n",
    "  0.2636875],\n",
    " 'full': [0.029775313464926623,\n",
    "  0.06647910744451674,\n",
    "  0.04667775226332799,\n",
    "  0.0332809168928796,\n",
    "  0.05201336090306968,\n",
    "  0.02816636396648242,\n",
    "  0.042579175033529204,\n",
    "  0.044728550884244545,\n",
    "  0.04091080425915061,\n",
    "  0.041340332580012795],\n",
    " 'linear': [0.06685398871637849,\n",
    "  0.10307654542937617,\n",
    "  0.08341716484628997,\n",
    "  0.0682755370919717,\n",
    "  0.08884475703082517,\n",
    "  0.061451295852230636,\n",
    "  0.07950304239046785,\n",
    "  0.08032007572549499,\n",
    "  0.07567339834293518,\n",
    "  0.07817281690779665],\n",
    " 'aim': [0.27145833333333336,\n",
    "  0.268125,\n",
    "  0.26879166666666665,\n",
    "  0.26529166666666665,\n",
    "  0.26316666666666666,\n",
    "  0.2535833333333333,\n",
    "  0.25654166666666667,\n",
    "  0.2699166666666667,\n",
    "  0.26087499999999997,\n",
    "  0.2625],\n",
    " 'sim': [0.27584375,\n",
    "  0.2750625,\n",
    "  0.27134375,\n",
    "  0.26821875,\n",
    "  0.26899999999999996,\n",
    "  0.26999999999999996,\n",
    "  0.2675625,\n",
    "  0.2629375,\n",
    "  0.27165625,\n",
    "  0.28025],\n",
    " 'jigsaw': [0.20800916343216552,\n",
    "  0.21512919397038882,\n",
    "  0.25229220293853327,\n",
    "  0.23102214725988712,\n",
    "  0.24311394040792333,\n",
    "  0.2042409427714018,\n",
    "  0.166963203629511,\n",
    "  0.16949084162224526,\n",
    "  0.1937579000713494,\n",
    "  0.22623957846867676],\n",
    " 'cmc': [0.15388526001646624,\n",
    "  0.16621548127143265,\n",
    "  0.1570145400187437,\n",
    "  0.16281618433360506,\n",
    "  0.15862432406425914,\n",
    "  0.1545232415778796,\n",
    "  0.15268780422335748,\n",
    "  0.14605907920957362,\n",
    "  0.1701612808123521,\n",
    "  0.15924838384240414], \n",
    " 'cmc_err':[0.2744379333219121,\n",
    "  0.1695567970415347,\n",
    "  0.16489292681487588,\n",
    "  0.14460394095542106,\n",
    "  0.15745310780670307,\n",
    "  0.15711038837488828,\n",
    "  0.1574260355967118,\n",
    "  0.1669498632895472,\n",
    "  0.17499063777335538]}"
   ]
  },
  {
   "cell_type": "code",
   "execution_count": null,
   "id": "4ab3d668",
   "metadata": {},
   "outputs": [],
   "source": [
    "res = bv_quito_results\n",
    "for r in res:\n",
    "    avg = np.mean(res[r])\n",
    "    h_bound = np.max(res[r]) - avg\n",
    "    l_bound = avg - np.min(res[r])\n",
    "    print(r, \" & \", \"$\", \"%.2f\" % avg, \"\\substack{+\", \"%.2f\" % h_bound, \" \\\\\\\\ -\", \"%.2f\" %l_bound, \"}$\", sep='')"
   ]
  }
 ],
 "metadata": {
  "kernelspec": {
   "display_name": "Python 3",
   "language": "python",
   "name": "python3"
  },
  "language_info": {
   "codemirror_mode": {
    "name": "ipython",
    "version": 3
   },
   "file_extension": ".py",
   "mimetype": "text/x-python",
   "name": "python",
   "nbconvert_exporter": "python",
   "pygments_lexer": "ipython3",
   "version": "3.9.7"
  }
 },
 "nbformat": 4,
 "nbformat_minor": 5
}
